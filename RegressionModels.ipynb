{
 "cells": [
  {
   "cell_type": "markdown",
   "id": "21b7927d-e0de-4eae-b74e-0afa185be13e",
   "metadata": {},
   "source": [
    "## Import packages and datasets"
   ]
  },
  {
   "cell_type": "code",
   "execution_count": 1,
   "id": "085bfee1-4d06-4123-a6b1-515b9ce65d15",
   "metadata": {},
   "outputs": [],
   "source": [
    "import os\n",
    "import numpy as np\n",
    "import pandas as pd\n",
    "import seaborn as sns\n",
    "import matplotlib.pyplot as plt\n",
    "from sklearn.linear_model import Lasso\n",
    "from stability_selection import StabilitySelection\n",
    "from sklearn.feature_selection import f_regression\n",
    "from sklearn.preprocessing import MinMaxScaler, StandardScaler, RobustScaler\n",
    "from evaluate_regression_models import *\n",
    "from HelperFunctions import *\n"
   ]
  },
  {
   "cell_type": "code",
   "execution_count": 2,
   "id": "3a1b59f8-0569-434d-b906-562edcbf9e3c",
   "metadata": {},
   "outputs": [],
   "source": [
    "pre_2019_2020 = pd.read_csv(\"Cleaned_Datasets/2019_2020/pre_2019_2020.csv\")\n",
    "stress_endterm_2019_2020 = pd.read_csv(\"Cleaned_Datasets/2019_2020/stress_endterm_2019_2020.csv\")\n",
    "ema_2019_2020 = pd.read_csv(\"Cleaned_Datasets/2019_2020/ema_2019_2020.csv\")\n",
    "calls_2019_2020 = pd.read_csv(\"Cleaned_Datasets/2019_2020/calls_2019_2020.csv\")\n",
    "bluetooth_2019_2020 = pd.read_csv(\"Cleaned_Datasets/2019_2020/bluetooth_2019_2020.csv\")\n",
    "screen_2019_2020 = pd.read_csv(\"Cleaned_Datasets/2019_2020/screen_2019_2020.csv\")\n",
    "location_2019_2020 = pd.read_csv(\"Cleaned_Datasets/2019_2020/location_2019_2020.csv\")\n",
    "steps_2019_2020 = pd.read_csv(\"Cleaned_Datasets/2019_2020/steps_2019_2020.csv\")\n",
    "sleep_2019_2020 = pd.read_csv(\"Cleaned_Datasets/2019_2020/sleep_2019_2020.csv\")\n",
    "\n",
    "pre_2021 = pd.read_csv(\"Cleaned_Datasets/2021/pre_2021.csv\")\n",
    "stress_endterm_2021 = pd.read_csv(\"Cleaned_Datasets/2021/stress_endterm_2021.csv\")\n",
    "ema_2021 = pd.read_csv(\"Cleaned_Datasets/2021/ema_2021.csv\")\n",
    "calls_2021 = pd.read_csv(\"Cleaned_Datasets/2021/calls_2021_ssa.csv\")\n",
    "bluetooth_2021 = pd.read_csv(\"Cleaned_Datasets/2021/bluetooth_2021_ssa.csv\")\n",
    "screen_2021 = pd.read_csv(\"Cleaned_Datasets/2021/screen_2021_ssa.csv\")\n",
    "location_2021 = pd.read_csv(\"Cleaned_Datasets/2021/location_2021_ssa.csv\")\n",
    "steps_2021 = pd.read_csv(\"Cleaned_Datasets/2021/steps_2021_ssa.csv\")\n",
    "sleep_2021 = pd.read_csv(\"Cleaned_Datasets/2021/sleep_2021_ssa.csv\")\n"
   ]
  },
  {
   "cell_type": "markdown",
   "id": "270e68c1-5c0f-417c-b427-fd9c7901019b",
   "metadata": {},
   "source": [
    "## Perform univariate feature selection and evaluate prediction models"
   ]
  },
  {
   "cell_type": "code",
   "execution_count": 3,
   "id": "255e142a-6f34-464e-82d5-18d1f1d5e392",
   "metadata": {},
   "outputs": [],
   "source": [
    "# models to fit\n",
    "random_states = range(0, 10)\n",
    "models_with_params = {\n",
    "    'Linear Regression': (LinearRegression(), {'fit_intercept': [True]}),\n",
    "    'Lasso': (Lasso(random_state=0, max_iter=10000), {'alpha': [0.001, 0.01, 0.1, 1]}),\n",
    "    'Ridge': (Ridge(random_state=0), {'alpha': [0.001, 0.01, 0.1, 1]}),\n",
    "    'Random Forest': (RandomForestRegressor(random_state=0), {'max_depth': [3, 5, 7]}),\n",
    "    'XGBoost': (XGBRegressor(random_state=0), {'max_depth': [3, 5, 7]}),\n",
    "    'SVM': (SVR(), {'C': [0.001, 0.01, 0.1, 1, 10], 'kernel': ['linear', 'rbf']}),\n",
    "    'Median Regressor': (DummyRegressor(strategy='median'), {})\n",
    "}"
   ]
  },
  {
   "cell_type": "markdown",
   "id": "51e98cfa-b04e-4a6e-9d33-dc18fb023a33",
   "metadata": {
    "jp-MarkdownHeadingCollapsed": true
   },
   "source": [
    "### Pre and Endterm"
   ]
  },
  {
   "cell_type": "code",
   "execution_count": 4,
   "id": "0cee7506-6a0b-4284-a330-d6b4d8204ac4",
   "metadata": {},
   "outputs": [
    {
     "name": "stdout",
     "output_type": "stream",
     "text": [
      "(354, 29)\n",
      "Optimal number of features: 15\n",
      "Features selected: ['UCLA_10items_PRE', 'SocialFit_PRE', '2waySSS_giving_emotional_PRE', 'ERQ_reappraisal_PRE', 'ERQ_suppression_PRE', 'BRS_PRE', 'CHIPS_PRE', 'PSS_10items_PRE', 'PSS_14items_PRE', 'STAI_PRE', 'MAAS_15items_PRE', 'CESD_9items_PRE', 'BDI2_PRE', 'GQ_PRE', 'FSPWB_PRE']\n",
      "(354, 17)\n"
     ]
    }
   ],
   "source": [
    "df_pre_post = merge_datasets([pre_2019_2020, stress_endterm_2019_2020], on_column = 'pid', how = 'inner')\n",
    "df_pre_post = df_pre_post.dropna()\n",
    "print(df_pre_post.shape)\n",
    "_, df_pre_post_selected = perform_rfecv(df_pre_post)\n",
    "print(df_pre_post_selected.shape)"
   ]
  },
  {
   "cell_type": "code",
   "execution_count": 5,
   "id": "b14bda3d-1d0c-4206-81b9-4a5fdc0942f1",
   "metadata": {
    "scrolled": true
   },
   "outputs": [
    {
     "name": "stdout",
     "output_type": "stream",
     "text": [
      "Evaluating model: Linear Regression\n"
     ]
    },
    {
     "name": "stderr",
     "output_type": "stream",
     "text": [
      "10it [00:00, 187.30it/s]\n",
      "10it [00:00, 244.27it/s]\n",
      "10it [00:00, 236.45it/s]\n",
      "10it [00:00, 233.79it/s]\n",
      "10it [00:00, 242.42it/s]\n",
      "10it [00:00, 223.54it/s]\n",
      "10it [00:00, 199.38it/s]\n",
      "10it [00:00, 227.78it/s]\n",
      "10it [00:00, 229.99it/s]\n",
      "10it [00:00, 236.84it/s]\n"
     ]
    },
    {
     "name": "stdout",
     "output_type": "stream",
     "text": [
      "Results for Linear Regression:\n",
      "MSE: Avg = 25.3332, Std = 0.4280\n",
      "RMSE: Avg = 5.0330, Std = 0.0422\n",
      "MAE: Avg = 3.9750, Std = 0.0307\n",
      "R²: Avg = 0.4414, Std = 0.0094\n",
      "Evaluating model: Lasso\n"
     ]
    },
    {
     "name": "stderr",
     "output_type": "stream",
     "text": [
      "10it [00:00, 54.00it/s]\n",
      "10it [00:00, 53.58it/s]\n",
      "10it [00:00, 47.50it/s]\n",
      "10it [00:00, 49.22it/s]\n",
      "10it [00:00, 48.05it/s]\n",
      "10it [00:00, 48.20it/s]\n",
      "10it [00:00, 49.80it/s]\n",
      "10it [00:00, 50.68it/s]\n",
      "10it [00:00, 49.32it/s]\n",
      "10it [00:00, 49.99it/s]\n"
     ]
    },
    {
     "name": "stdout",
     "output_type": "stream",
     "text": [
      "Results for Lasso:\n",
      "MSE: Avg = 25.5802, Std = 0.5086\n",
      "RMSE: Avg = 5.0574, Std = 0.0500\n",
      "MAE: Avg = 4.0074, Std = 0.0363\n",
      "R²: Avg = 0.4360, Std = 0.0112\n",
      "Evaluating model: Ridge\n"
     ]
    },
    {
     "name": "stderr",
     "output_type": "stream",
     "text": [
      "10it [00:00, 74.80it/s]\n",
      "10it [00:00, 77.32it/s]\n",
      "10it [00:00, 76.78it/s]\n",
      "10it [00:00, 78.05it/s]\n",
      "10it [00:00, 75.75it/s]\n",
      "10it [00:00, 77.24it/s]\n",
      "10it [00:00, 86.18it/s]\n",
      "10it [00:00, 82.35it/s]\n",
      "10it [00:00, 82.16it/s]\n",
      "10it [00:00, 83.56it/s]\n"
     ]
    },
    {
     "name": "stdout",
     "output_type": "stream",
     "text": [
      "Results for Ridge:\n",
      "MSE: Avg = 25.4137, Std = 0.3242\n",
      "RMSE: Avg = 5.0411, Std = 0.0320\n",
      "MAE: Avg = 3.9929, Std = 0.0242\n",
      "R²: Avg = 0.4397, Std = 0.0071\n",
      "Evaluating model: Random Forest\n"
     ]
    },
    {
     "name": "stderr",
     "output_type": "stream",
     "text": [
      "10it [00:12,  1.23s/it]\n",
      "10it [00:12,  1.21s/it]\n",
      "10it [00:13,  1.30s/it]\n",
      "10it [00:13,  1.31s/it]\n",
      "10it [00:12,  1.28s/it]\n",
      "10it [00:13,  1.35s/it]\n",
      "10it [00:13,  1.35s/it]\n",
      "10it [00:13,  1.37s/it]\n",
      "10it [00:13,  1.38s/it]\n",
      "10it [00:13,  1.38s/it]\n"
     ]
    },
    {
     "name": "stdout",
     "output_type": "stream",
     "text": [
      "Results for Random Forest:\n",
      "MSE: Avg = 25.7137, Std = 0.2952\n",
      "RMSE: Avg = 5.0708, Std = 0.0291\n",
      "MAE: Avg = 4.0068, Std = 0.0221\n",
      "R²: Avg = 0.4331, Std = 0.0065\n",
      "Evaluating model: XGBoost\n"
     ]
    },
    {
     "name": "stderr",
     "output_type": "stream",
     "text": [
      "10it [00:15,  1.55s/it]\n",
      "10it [00:15,  1.51s/it]\n",
      "10it [00:15,  1.52s/it]\n",
      "10it [00:15,  1.59s/it]\n",
      "10it [00:16,  1.66s/it]\n",
      "10it [00:16,  1.69s/it]\n",
      "10it [00:16,  1.61s/it]\n",
      "10it [00:18,  1.82s/it]\n",
      "10it [00:22,  2.23s/it]\n",
      "10it [00:17,  1.74s/it]\n"
     ]
    },
    {
     "name": "stdout",
     "output_type": "stream",
     "text": [
      "Results for XGBoost:\n",
      "MSE: Avg = 29.2908, Std = 1.0225\n",
      "RMSE: Avg = 5.4113, Std = 0.0941\n",
      "MAE: Avg = 4.2663, Std = 0.0994\n",
      "R²: Avg = 0.3542, Std = 0.0225\n",
      "Evaluating model: SVM\n"
     ]
    },
    {
     "name": "stderr",
     "output_type": "stream",
     "text": [
      "10it [00:01,  8.23it/s]\n",
      "10it [00:01,  8.41it/s]\n",
      "10it [00:01,  7.54it/s]\n",
      "10it [00:01,  8.23it/s]\n",
      "10it [00:01,  8.22it/s]\n",
      "10it [00:01,  8.46it/s]\n",
      "10it [00:01,  8.80it/s]\n",
      "10it [00:01,  8.82it/s]\n",
      "10it [00:01,  7.66it/s]\n",
      "10it [00:01,  8.23it/s]\n"
     ]
    },
    {
     "name": "stdout",
     "output_type": "stream",
     "text": [
      "Results for SVM:\n",
      "MSE: Avg = 25.3065, Std = 0.3369\n",
      "RMSE: Avg = 5.0304, Std = 0.0334\n",
      "MAE: Avg = 4.0044, Std = 0.0298\n",
      "R²: Avg = 0.4420, Std = 0.0074\n",
      "Evaluating model: Median Regressor\n"
     ]
    },
    {
     "name": "stderr",
     "output_type": "stream",
     "text": [
      "10it [00:00, 275.44it/s]\n",
      "10it [00:00, 290.15it/s]\n",
      "10it [00:00, 284.83it/s]\n",
      "10it [00:00, 173.97it/s]\n",
      "10it [00:00, 154.92it/s]\n",
      "10it [00:00, 286.05it/s]\n",
      "10it [00:00, 174.51it/s]\n",
      "10it [00:00, 260.78it/s]\n",
      "10it [00:00, 291.55it/s]\n",
      "10it [00:00, 300.39it/s]"
     ]
    },
    {
     "name": "stdout",
     "output_type": "stream",
     "text": [
      "Results for Median Regressor:\n",
      "MSE: Avg = 46.1740, Std = 0.1939\n",
      "RMSE: Avg = 6.7951, Std = 0.0143\n",
      "MAE: Avg = 5.4260, Std = 0.0224\n",
      "R²: Avg = -0.0181, Std = 0.0043\n",
      "\n",
      "Best model based on R²: SVM with R² = 0.4420\n"
     ]
    },
    {
     "name": "stderr",
     "output_type": "stream",
     "text": [
      "\n"
     ]
    }
   ],
   "source": [
    "pre_post_results = evaluate_multiple_models(df_pre_post_selected, models_with_params, random_states)"
   ]
  },
  {
   "cell_type": "markdown",
   "id": "12eb44a5-9f76-48d1-b6fd-08825d237e82",
   "metadata": {
    "jp-MarkdownHeadingCollapsed": true
   },
   "source": [
    "### EMA and Endterm"
   ]
  },
  {
   "cell_type": "code",
   "execution_count": 6,
   "id": "2e953452-7424-44b0-b5df-c80441b9871d",
   "metadata": {},
   "outputs": [
    {
     "name": "stdout",
     "output_type": "stream",
     "text": [
      "(300, 52)\n",
      "Optimal number of features: 42\n",
      "Features selected: ['phq4_EMA_mean', 'phq4_EMA_median', 'phq4_EMA_max', 'phq4_EMA_min', 'phq4_EMA_std', 'phq4_EMA_skew', 'phq4_EMA_kurt', 'phq4_EMA_iqr', 'phq4_EMA_autocorr', 'phq4_EMA_rmsd', 'phq4_anxiety_EMA_mean', 'phq4_anxiety_EMA_std', 'phq4_anxiety_EMA_skew', 'phq4_anxiety_EMA_kurt', 'phq4_anxiety_EMA_autocorr', 'phq4_anxiety_EMA_rmsd', 'phq4_depression_EMA_mean', 'phq4_depression_EMA_std', 'phq4_depression_EMA_skew', 'phq4_depression_EMA_kurt', 'phq4_depression_EMA_iqr', 'phq4_depression_EMA_autocorr', 'phq4_depression_EMA_rmsd', 'positive_affect_EMA_mean', 'positive_affect_EMA_median', 'positive_affect_EMA_max', 'positive_affect_EMA_min', 'positive_affect_EMA_std', 'positive_affect_EMA_skew', 'positive_affect_EMA_kurt', 'positive_affect_EMA_iqr', 'positive_affect_EMA_autocorr', 'positive_affect_EMA_rmsd', 'negative_affect_EMA_mean', 'negative_affect_EMA_median', 'negative_affect_EMA_max', 'negative_affect_EMA_std', 'negative_affect_EMA_skew', 'negative_affect_EMA_kurt', 'negative_affect_EMA_iqr', 'negative_affect_EMA_autocorr', 'negative_affect_EMA_rmsd']\n",
      "(300, 44)\n"
     ]
    }
   ],
   "source": [
    "df_ema_post = merge_datasets([ema_2019_2020, stress_endterm_2019_2020], on_column = 'pid', how = 'inner')\n",
    "df_ema_post = df_ema_post.dropna()\n",
    "print(df_ema_post.shape)\n",
    "_, df_ema_post_selected = perform_rfecv(df_ema_post)\n",
    "print(df_ema_post_selected.shape)\n"
   ]
  },
  {
   "cell_type": "code",
   "execution_count": 7,
   "id": "4d9f0531-7c6a-4502-a057-6ec86f7ba637",
   "metadata": {
    "scrolled": true
   },
   "outputs": [
    {
     "name": "stdout",
     "output_type": "stream",
     "text": [
      "Evaluating model: Linear Regression\n"
     ]
    },
    {
     "name": "stderr",
     "output_type": "stream",
     "text": [
      "10it [00:00, 20.98it/s]\n",
      "10it [00:00, 40.79it/s]\n",
      "10it [00:00, 11.39it/s]\n",
      "10it [00:00, 68.44it/s]\n",
      "10it [00:00, 58.19it/s]\n",
      "10it [00:00, 65.78it/s]\n",
      "10it [00:00, 75.81it/s]\n",
      "10it [00:00, 66.65it/s]\n",
      "10it [00:00, 72.66it/s]\n",
      "10it [00:00, 59.86it/s]\n"
     ]
    },
    {
     "name": "stdout",
     "output_type": "stream",
     "text": [
      "Results for Linear Regression:\n",
      "MSE: Avg = 27.3840, Std = 0.7056\n",
      "RMSE: Avg = 5.2325, Std = 0.0675\n",
      "MAE: Avg = 4.0202, Std = 0.0600\n",
      "R²: Avg = 0.3372, Std = 0.0171\n",
      "Evaluating model: Lasso\n"
     ]
    },
    {
     "name": "stderr",
     "output_type": "stream",
     "text": [
      "10it [00:01,  7.67it/s]\n",
      "10it [00:01,  6.60it/s]\n",
      "10it [00:01,  7.67it/s]\n",
      "10it [00:01,  6.13it/s]\n",
      "10it [00:01,  6.90it/s]\n",
      "10it [00:01,  9.20it/s]\n",
      "10it [00:01,  7.55it/s]\n",
      "10it [00:02,  4.07it/s]\n",
      "10it [00:01,  6.62it/s]\n",
      "10it [00:01,  6.61it/s]\n"
     ]
    },
    {
     "name": "stdout",
     "output_type": "stream",
     "text": [
      "Results for Lasso:\n",
      "MSE: Avg = 23.7230, Std = 0.2363\n",
      "RMSE: Avg = 4.8706, Std = 0.0243\n",
      "MAE: Avg = 3.7837, Std = 0.0208\n",
      "R²: Avg = 0.4258, Std = 0.0057\n",
      "Evaluating model: Ridge\n"
     ]
    },
    {
     "name": "stderr",
     "output_type": "stream",
     "text": [
      "10it [00:00, 19.53it/s]\n",
      "10it [00:00, 28.64it/s]\n",
      "10it [00:00, 31.89it/s]\n",
      "10it [00:00, 44.30it/s]\n",
      "10it [00:00, 19.51it/s]\n",
      "10it [00:00, 32.02it/s]\n",
      "10it [00:00, 39.74it/s]\n",
      "10it [00:00, 38.74it/s]\n",
      "10it [00:00, 37.65it/s]\n",
      "10it [00:00, 40.12it/s]\n"
     ]
    },
    {
     "name": "stdout",
     "output_type": "stream",
     "text": [
      "Results for Ridge:\n",
      "MSE: Avg = 24.1780, Std = 0.3103\n",
      "RMSE: Avg = 4.9170, Std = 0.0316\n",
      "MAE: Avg = 3.7855, Std = 0.0264\n",
      "R²: Avg = 0.4148, Std = 0.0075\n",
      "Evaluating model: Random Forest\n"
     ]
    },
    {
     "name": "stderr",
     "output_type": "stream",
     "text": [
      "10it [00:27,  2.77s/it]\n",
      "10it [00:27,  2.71s/it]\n",
      "10it [00:27,  2.72s/it]\n",
      "10it [00:28,  2.82s/it]\n",
      "10it [00:27,  2.80s/it]\n",
      "10it [00:27,  2.79s/it]\n",
      "10it [00:27,  2.80s/it]\n",
      "10it [00:27,  2.79s/it]\n",
      "10it [00:27,  2.80s/it]\n",
      "10it [00:27,  2.73s/it]\n"
     ]
    },
    {
     "name": "stdout",
     "output_type": "stream",
     "text": [
      "Results for Random Forest:\n",
      "MSE: Avg = 23.3968, Std = 0.2796\n",
      "RMSE: Avg = 4.8369, Std = 0.0288\n",
      "MAE: Avg = 3.8397, Std = 0.0324\n",
      "R²: Avg = 0.4337, Std = 0.0068\n",
      "Evaluating model: XGBoost\n"
     ]
    },
    {
     "name": "stderr",
     "output_type": "stream",
     "text": [
      "10it [00:20,  2.07s/it]\n",
      "10it [00:18,  1.86s/it]\n",
      "10it [00:20,  2.00s/it]\n",
      "10it [00:20,  2.04s/it]\n",
      "10it [00:20,  2.01s/it]\n",
      "10it [00:20,  2.06s/it]\n",
      "10it [00:19,  1.95s/it]\n",
      "10it [00:22,  2.28s/it]\n",
      "10it [00:19,  1.97s/it]\n",
      "10it [00:18,  1.85s/it]\n"
     ]
    },
    {
     "name": "stdout",
     "output_type": "stream",
     "text": [
      "Results for XGBoost:\n",
      "MSE: Avg = 27.6549, Std = 0.9449\n",
      "RMSE: Avg = 5.2580, Std = 0.0887\n",
      "MAE: Avg = 4.2000, Std = 0.0608\n",
      "R²: Avg = 0.3306, Std = 0.0229\n",
      "Evaluating model: SVM\n"
     ]
    },
    {
     "name": "stderr",
     "output_type": "stream",
     "text": [
      "10it [00:01,  7.02it/s]\n",
      "10it [00:01,  7.06it/s]\n",
      "10it [00:01,  6.73it/s]\n",
      "10it [00:01,  7.01it/s]\n",
      "10it [00:01,  6.84it/s]\n",
      "10it [00:01,  7.19it/s]\n",
      "10it [00:01,  6.80it/s]\n",
      "10it [00:01,  6.91it/s]\n",
      "10it [00:01,  6.79it/s]\n",
      "10it [00:01,  6.48it/s]\n"
     ]
    },
    {
     "name": "stdout",
     "output_type": "stream",
     "text": [
      "Results for SVM:\n",
      "MSE: Avg = 23.3473, Std = 0.2812\n",
      "RMSE: Avg = 4.8318, Std = 0.0290\n",
      "MAE: Avg = 3.7603, Std = 0.0219\n",
      "R²: Avg = 0.4349, Std = 0.0068\n",
      "Evaluating model: Median Regressor\n"
     ]
    },
    {
     "name": "stderr",
     "output_type": "stream",
     "text": [
      "10it [00:00, 272.07it/s]\n",
      "10it [00:00, 267.25it/s]\n",
      "10it [00:00, 266.85it/s]\n",
      "10it [00:00, 272.00it/s]\n",
      "10it [00:00, 270.49it/s]\n",
      "10it [00:00, 285.14it/s]\n",
      "10it [00:00, 268.68it/s]\n",
      "10it [00:00, 289.75it/s]\n",
      "10it [00:00, 285.54it/s]\n",
      "10it [00:00, 274.33it/s]"
     ]
    },
    {
     "name": "stdout",
     "output_type": "stream",
     "text": [
      "Results for Median Regressor:\n",
      "MSE: Avg = 42.2332, Std = 0.2944\n",
      "RMSE: Avg = 6.4987, Std = 0.0227\n",
      "MAE: Avg = 5.1100, Std = 0.0181\n",
      "R²: Avg = -0.0223, Std = 0.0071\n",
      "\n",
      "Best model based on R²: SVM with R² = 0.4349\n"
     ]
    },
    {
     "name": "stderr",
     "output_type": "stream",
     "text": [
      "\n"
     ]
    }
   ],
   "source": [
    "ema_post_results = evaluate_multiple_models(df_ema_post_selected, models_with_params, random_states)"
   ]
  },
  {
   "cell_type": "markdown",
   "id": "dc9b8ebc-7fda-4133-89ad-eca6c5d9bf55",
   "metadata": {
    "jp-MarkdownHeadingCollapsed": true
   },
   "source": [
    "### Pre, EMA, and Endterm"
   ]
  },
  {
   "cell_type": "code",
   "execution_count": 8,
   "id": "8a4202a4-403e-4e56-94ca-c82bf0fff849",
   "metadata": {},
   "outputs": [
    {
     "name": "stdout",
     "output_type": "stream",
     "text": [
      "(283, 59)\n",
      "Optimal number of features: 51\n",
      "Features selected: ['UCLA_10items_PRE', 'SocialFit_PRE', '2waySSS_giving_emotional_PRE', 'ERQ_reappraisal_PRE', 'ERQ_suppression_PRE', 'BRS_PRE', 'CHIPS_PRE', 'PSS_10items_PRE', 'PSS_14items_PRE', 'STAI_PRE', 'MAAS_15items_PRE', 'CESD_9items_PRE', 'BDI2_PRE', 'GQ_PRE', 'FSPWB_PRE', 'phq4_EMA_mean', 'phq4_EMA_median', 'phq4_EMA_max', 'phq4_EMA_min', 'phq4_EMA_std', 'phq4_EMA_skew', 'phq4_EMA_kurt', 'phq4_EMA_autocorr', 'phq4_EMA_rmsd', 'phq4_anxiety_EMA_mean', 'phq4_anxiety_EMA_std', 'phq4_anxiety_EMA_skew', 'phq4_anxiety_EMA_kurt', 'phq4_anxiety_EMA_rmsd', 'phq4_depression_EMA_mean', 'phq4_depression_EMA_std', 'phq4_depression_EMA_kurt', 'phq4_depression_EMA_rmsd', 'positive_affect_EMA_mean', 'positive_affect_EMA_median', 'positive_affect_EMA_max', 'positive_affect_EMA_min', 'positive_affect_EMA_std', 'positive_affect_EMA_skew', 'positive_affect_EMA_kurt', 'positive_affect_EMA_autocorr', 'positive_affect_EMA_rmsd', 'negative_affect_EMA_mean', 'negative_affect_EMA_median', 'negative_affect_EMA_max', 'negative_affect_EMA_std', 'negative_affect_EMA_skew', 'negative_affect_EMA_kurt', 'negative_affect_EMA_iqr', 'negative_affect_EMA_autocorr', 'negative_affect_EMA_rmsd']\n",
      "(283, 53)\n"
     ]
    }
   ],
   "source": [
    "#df_pre_ema_post = merge_datasets([pre_2019_2020, ema_2019_2020_transformed, stress_endterm_2019_2020], on_column = 'pid', how = 'inner')\n",
    "\n",
    "df_pre_ema_post = merge_datasets([df_pre_post_selected, df_ema_post_selected, stress_endterm_2019_2020], on_column=['pid', 'PSS_10items_POST'], how='inner')\n",
    "\n",
    "df_pre_ema_post = df_pre_ema_post.dropna()\n",
    "print(df_pre_ema_post.shape)\n",
    "results_filtered, df_pre_ema_post_selected = perform_rfecv(df_pre_ema_post)\n",
    "print(df_pre_ema_post_selected.shape)\n"
   ]
  },
  {
   "cell_type": "code",
   "execution_count": 9,
   "id": "c0afe104-6026-479c-8c14-4222f12a7c5e",
   "metadata": {
    "scrolled": true
   },
   "outputs": [
    {
     "name": "stdout",
     "output_type": "stream",
     "text": [
      "Evaluating model: Linear Regression\n"
     ]
    },
    {
     "name": "stderr",
     "output_type": "stream",
     "text": [
      "10it [00:00, 15.32it/s]\n",
      "10it [00:00, 17.71it/s]\n",
      "10it [00:00, 21.32it/s]\n",
      "10it [00:00, 20.26it/s]\n",
      "10it [00:00, 18.70it/s]\n",
      "10it [00:00, 12.49it/s]\n",
      "10it [00:00, 15.01it/s]\n",
      "10it [00:00, 25.93it/s]\n",
      "10it [00:00, 30.75it/s]\n",
      "10it [00:00, 10.24it/s]\n"
     ]
    },
    {
     "name": "stdout",
     "output_type": "stream",
     "text": [
      "Results for Linear Regression:\n",
      "MSE: Avg = 25.0257, Std = 0.8354\n",
      "RMSE: Avg = 5.0019, Std = 0.0838\n",
      "MAE: Avg = 3.9929, Std = 0.0622\n",
      "R²: Avg = 0.3974, Std = 0.0201\n",
      "Evaluating model: Lasso\n"
     ]
    },
    {
     "name": "stderr",
     "output_type": "stream",
     "text": [
      "10it [00:06,  1.55it/s]\n",
      "10it [00:05,  1.97it/s]\n",
      "10it [00:07,  1.41it/s]\n",
      "10it [00:05,  1.76it/s]\n",
      "10it [00:06,  1.46it/s]\n",
      "10it [00:05,  1.90it/s]\n",
      "10it [00:06,  1.55it/s]\n",
      "10it [00:05,  1.71it/s]\n",
      "10it [00:06,  1.66it/s]\n",
      "10it [00:06,  1.59it/s]\n"
     ]
    },
    {
     "name": "stdout",
     "output_type": "stream",
     "text": [
      "Results for Lasso:\n",
      "MSE: Avg = 21.5254, Std = 0.4252\n",
      "RMSE: Avg = 4.6393, Std = 0.0459\n",
      "MAE: Avg = 3.6545, Std = 0.0445\n",
      "R²: Avg = 0.4817, Std = 0.0102\n",
      "Evaluating model: Ridge\n"
     ]
    },
    {
     "name": "stderr",
     "output_type": "stream",
     "text": [
      "10it [00:02,  4.35it/s]\n",
      "10it [00:01,  8.96it/s]\n",
      "10it [00:00, 13.17it/s]\n",
      "10it [00:00, 12.87it/s]\n",
      "10it [00:00, 10.55it/s]\n",
      "10it [00:00, 12.34it/s]\n",
      "10it [00:01,  8.65it/s]\n",
      "10it [00:02,  4.02it/s]\n",
      "10it [00:01,  6.35it/s]\n",
      "10it [00:01,  5.43it/s]\n"
     ]
    },
    {
     "name": "stdout",
     "output_type": "stream",
     "text": [
      "Results for Ridge:\n",
      "MSE: Avg = 21.7486, Std = 0.5534\n",
      "RMSE: Avg = 4.6632, Std = 0.0594\n",
      "MAE: Avg = 3.7124, Std = 0.0525\n",
      "R²: Avg = 0.4763, Std = 0.0133\n",
      "Evaluating model: Random Forest\n"
     ]
    },
    {
     "name": "stderr",
     "output_type": "stream",
     "text": [
      "10it [00:29,  2.96s/it]\n",
      "10it [00:30,  3.03s/it]\n",
      "10it [00:30,  3.02s/it]\n",
      "10it [00:30,  3.04s/it]\n",
      "10it [00:30,  3.01s/it]\n",
      "10it [00:29,  2.97s/it]\n",
      "10it [00:30,  3.02s/it]\n",
      "10it [00:29,  3.00s/it]\n",
      "10it [00:29,  2.98s/it]\n",
      "10it [00:29,  2.98s/it]\n"
     ]
    },
    {
     "name": "stdout",
     "output_type": "stream",
     "text": [
      "Results for Random Forest:\n",
      "MSE: Avg = 22.0688, Std = 0.2340\n",
      "RMSE: Avg = 4.6977, Std = 0.0249\n",
      "MAE: Avg = 3.8090, Std = 0.0224\n",
      "R²: Avg = 0.4686, Std = 0.0056\n",
      "Evaluating model: XGBoost\n"
     ]
    },
    {
     "name": "stderr",
     "output_type": "stream",
     "text": [
      "10it [00:20,  2.05s/it]\n",
      "10it [00:21,  2.11s/it]\n",
      "10it [00:19,  1.98s/it]\n",
      "10it [00:20,  2.01s/it]\n",
      "10it [00:20,  2.02s/it]\n",
      "10it [00:19,  1.99s/it]\n",
      "10it [00:19,  1.97s/it]\n",
      "10it [00:19,  1.92s/it]\n",
      "10it [00:18,  1.82s/it]\n",
      "10it [00:18,  1.84s/it]\n"
     ]
    },
    {
     "name": "stdout",
     "output_type": "stream",
     "text": [
      "Results for XGBoost:\n",
      "MSE: Avg = 24.9814, Std = 0.8072\n",
      "RMSE: Avg = 4.9975, Std = 0.0811\n",
      "MAE: Avg = 4.0204, Std = 0.0693\n",
      "R²: Avg = 0.3984, Std = 0.0194\n",
      "Evaluating model: SVM\n"
     ]
    },
    {
     "name": "stderr",
     "output_type": "stream",
     "text": [
      "10it [00:01,  7.23it/s]\n",
      "10it [00:01,  7.37it/s]\n",
      "10it [00:01,  7.39it/s]\n",
      "10it [00:01,  7.15it/s]\n",
      "10it [00:01,  7.07it/s]\n",
      "10it [00:01,  7.22it/s]\n",
      "10it [00:01,  7.24it/s]\n",
      "10it [00:01,  7.13it/s]\n",
      "10it [00:01,  7.28it/s]\n",
      "10it [00:01,  7.05it/s]\n"
     ]
    },
    {
     "name": "stdout",
     "output_type": "stream",
     "text": [
      "Results for SVM:\n",
      "MSE: Avg = 21.7871, Std = 0.5239\n",
      "RMSE: Avg = 4.6673, Std = 0.0560\n",
      "MAE: Avg = 3.7002, Std = 0.0505\n",
      "R²: Avg = 0.4754, Std = 0.0126\n",
      "Evaluating model: Median Regressor\n"
     ]
    },
    {
     "name": "stderr",
     "output_type": "stream",
     "text": [
      "10it [00:00, 265.67it/s]\n",
      "10it [00:00, 285.81it/s]\n",
      "10it [00:00, 276.97it/s]\n",
      "10it [00:00, 260.04it/s]\n",
      "10it [00:00, 273.58it/s]\n",
      "10it [00:00, 263.02it/s]\n",
      "10it [00:00, 261.17it/s]\n",
      "10it [00:00, 263.87it/s]\n",
      "10it [00:00, 269.42it/s]\n",
      "10it [00:00, 257.07it/s]"
     ]
    },
    {
     "name": "stdout",
     "output_type": "stream",
     "text": [
      "Results for Median Regressor:\n",
      "MSE: Avg = 42.5113, Std = 0.2885\n",
      "RMSE: Avg = 6.5200, Std = 0.0221\n",
      "MAE: Avg = 5.1583, Std = 0.0155\n",
      "R²: Avg = -0.0237, Std = 0.0069\n",
      "\n",
      "Best model based on R²: Lasso with R² = 0.4817\n"
     ]
    },
    {
     "name": "stderr",
     "output_type": "stream",
     "text": [
      "\n"
     ]
    }
   ],
   "source": [
    "pre_ema_post_results = evaluate_multiple_models(df_pre_ema_post_selected, models_with_params, random_states)"
   ]
  },
  {
   "cell_type": "markdown",
   "id": "d758b953-7a5c-49f7-9193-2db8bf6bbd04",
   "metadata": {
    "jp-MarkdownHeadingCollapsed": true
   },
   "source": [
    "### Call and Endterm"
   ]
  },
  {
   "cell_type": "code",
   "execution_count": 10,
   "id": "9a7ff699-e321-40e7-892d-8d01cf918e99",
   "metadata": {},
   "outputs": [
    {
     "name": "stdout",
     "output_type": "stream",
     "text": [
      "(193, 82)\n",
      "Optimal number of features: 57\n",
      "Features selected: ['f_call:phone_calls_rapids_missed_count:allday_slope_mean', 'f_call:phone_calls_rapids_missed_count:allday_slope_variance', 'f_call:phone_calls_rapids_missed_count:allday_curvature_mean', 'f_call:phone_calls_rapids_missed_count:allday_curvature_max', 'f_call:phone_calls_rapids_missed_count:allday_absolute_auc', 'f_call:phone_calls_rapids_missed_count:allday_slope', 'f_call:phone_calls_rapids_missed_count:allday_mean', 'f_call:phone_calls_rapids_missed_count:allday_variance', 'f_call:phone_calls_rapids_incoming_count:allday_slope_mean', 'f_call:phone_calls_rapids_incoming_count:allday_curvature_mean', 'f_call:phone_calls_rapids_incoming_count:allday_curvature_max', 'f_call:phone_calls_rapids_incoming_count:allday_total_variation', 'f_call:phone_calls_rapids_incoming_count:allday_absolute_auc', 'f_call:phone_calls_rapids_incoming_count:allday_slope', 'f_call:phone_calls_rapids_incoming_count:allday_mean', 'f_call:phone_calls_rapids_incoming_count:allday_variance', 'f_call:phone_calls_rapids_outgoing_count:allday_slope_mean', 'f_call:phone_calls_rapids_outgoing_count:allday_curvature_mean', 'f_call:phone_calls_rapids_outgoing_count:allday_curvature_max', 'f_call:phone_calls_rapids_outgoing_count:allday_num_inflection_points', 'f_call:phone_calls_rapids_outgoing_count:allday_total_variation', 'f_call:phone_calls_rapids_outgoing_count:allday_absolute_auc', 'f_call:phone_calls_rapids_outgoing_count:allday_slope', 'f_call:phone_calls_rapids_outgoing_count:allday_mean', 'f_call:phone_calls_rapids_outgoing_count:allday_variance', 'f_call:phone_calls_rapids_outgoing_sumduration:allday_num_inflection_points', 'f_call:phone_calls_rapids_outgoing_sumduration:allday_total_variation', 'f_call:phone_calls_rapids_outgoing_sumduration:allday_slope', 'f_call:phone_calls_rapids_outgoing_sumduration:allday_mean', 'f_call:phone_calls_rapids_outgoing_sumduration:allday_variance', 'f_call:phone_calls_rapids_missed_distinctcontacts:allday_slope_mean', 'f_call:phone_calls_rapids_missed_distinctcontacts:allday_slope_variance', 'f_call:phone_calls_rapids_missed_distinctcontacts:allday_curvature_mean', 'f_call:phone_calls_rapids_missed_distinctcontacts:allday_slope', 'f_call:phone_calls_rapids_missed_distinctcontacts:allday_variance', 'f_call:phone_calls_rapids_incoming_distinctcontacts:allday_slope_mean', 'f_call:phone_calls_rapids_incoming_distinctcontacts:allday_slope_variance', 'f_call:phone_calls_rapids_incoming_distinctcontacts:allday_curvature_mean', 'f_call:phone_calls_rapids_incoming_distinctcontacts:allday_curvature_max', 'f_call:phone_calls_rapids_incoming_distinctcontacts:allday_absolute_auc', 'f_call:phone_calls_rapids_incoming_distinctcontacts:allday_slope', 'f_call:phone_calls_rapids_incoming_distinctcontacts:allday_mean', 'f_call:phone_calls_rapids_incoming_distinctcontacts:allday_variance', 'f_call:phone_calls_rapids_outgoing_distinctcontacts:allday_slope_mean', 'f_call:phone_calls_rapids_outgoing_distinctcontacts:allday_curvature_mean', 'f_call:phone_calls_rapids_outgoing_distinctcontacts:allday_curvature_max', 'f_call:phone_calls_rapids_outgoing_distinctcontacts:allday_absolute_auc', 'f_call:phone_calls_rapids_outgoing_distinctcontacts:allday_slope', 'f_call:phone_calls_rapids_incoming_sumduration:allday_slope_mean', 'f_call:phone_calls_rapids_incoming_sumduration:allday_curvature_mean', 'f_call:phone_calls_rapids_incoming_sumduration:allday_curvature_max', 'f_call:phone_calls_rapids_incoming_sumduration:allday_num_inflection_points', 'f_call:phone_calls_rapids_incoming_sumduration:allday_total_variation', 'f_call:phone_calls_rapids_incoming_sumduration:allday_absolute_auc', 'f_call:phone_calls_rapids_incoming_sumduration:allday_slope', 'f_call:phone_calls_rapids_incoming_sumduration:allday_mean', 'f_call:phone_calls_rapids_incoming_sumduration:allday_variance']\n",
      "(193, 59)\n"
     ]
    }
   ],
   "source": [
    "df_call_post = merge_datasets([calls_2019_2020, stress_endterm_2019_2020], on_column = 'pid', how = 'inner')\n",
    "df_call_post = df_call_post.dropna()\n",
    "print(df_call_post.shape)\n",
    "_, df_call_post_selected = perform_rfecv(df_call_post)\n",
    "print(df_call_post_selected.shape)"
   ]
  },
  {
   "cell_type": "code",
   "execution_count": 11,
   "id": "1b5ac4f7-cc7d-49b1-b6a3-d375b31fcd9e",
   "metadata": {
    "scrolled": true
   },
   "outputs": [],
   "source": [
    "#call_post_results = evaluate_multiple_models(df_call_post_selected, models_with_params, random_states)"
   ]
  },
  {
   "cell_type": "markdown",
   "id": "1b986078-3270-4c70-ad8c-44564552758e",
   "metadata": {
    "jp-MarkdownHeadingCollapsed": true
   },
   "source": [
    "### Bluetooth and Endterm"
   ]
  },
  {
   "cell_type": "code",
   "execution_count": 12,
   "id": "e3d47de6-e121-4a5c-9cab-2fedda625df4",
   "metadata": {},
   "outputs": [
    {
     "name": "stdout",
     "output_type": "stream",
     "text": [
      "(333, 32)\n",
      "Optimal number of features: 10\n",
      "Features selected: ['f_blue:phone_bluetooth_rapids_countscans:allday_slope_mean', 'f_blue:phone_bluetooth_rapids_countscans:allday_slope', 'f_blue:phone_bluetooth_rapids_countscans:allday_mean', 'f_blue:phone_bluetooth_rapids_uniquedevices:allday_total_variation', 'f_blue:phone_bluetooth_rapids_uniquedevices:allday_slope', 'f_blue:phone_bluetooth_rapids_countscansmostuniquedevice:allday_slope_mean', 'f_blue:phone_bluetooth_rapids_countscansmostuniquedevice:allday_curvature_mean', 'f_blue:phone_bluetooth_rapids_countscansmostuniquedevice:allday_curvature_max', 'f_blue:phone_bluetooth_rapids_countscansmostuniquedevice:allday_slope', 'f_blue:phone_bluetooth_rapids_countscansmostuniquedevice:allday_mean']\n",
      "(333, 12)\n"
     ]
    }
   ],
   "source": [
    "df_bluetooth_post = merge_datasets([bluetooth_2019_2020, stress_endterm_2019_2020], on_column = 'pid', how = 'inner')\n",
    "df_bluetooth_post = df_bluetooth_post.dropna()\n",
    "print(df_bluetooth_post.shape)\n",
    "_, df_bluetooth_post_selected = perform_rfecv(df_bluetooth_post)\n",
    "print(df_bluetooth_post_selected.shape)"
   ]
  },
  {
   "cell_type": "code",
   "execution_count": 13,
   "id": "92bfd369-01e1-4405-9b0c-cbf2c9f9ee35",
   "metadata": {
    "scrolled": true
   },
   "outputs": [],
   "source": [
    "#bluetooth_post_results = evaluate_multiple_models(df_bluetooth_post_selected, models_with_params, random_states)"
   ]
  },
  {
   "cell_type": "markdown",
   "id": "df8c1b34-93dc-497b-ac9b-5411ddb9141a",
   "metadata": {
    "jp-MarkdownHeadingCollapsed": true
   },
   "source": [
    "### Phone usage and Endterm"
   ]
  },
  {
   "cell_type": "code",
   "execution_count": 14,
   "id": "34bf87a3-9c7e-42e5-a7cb-b1a1d8cb5e2f",
   "metadata": {},
   "outputs": [
    {
     "name": "stdout",
     "output_type": "stream",
     "text": [
      "(339, 32)\n",
      "Optimal number of features: 19\n",
      "Features selected: ['f_screen:phone_screen_rapids_sumdurationunlock:allday_slope_mean', 'f_screen:phone_screen_rapids_sumdurationunlock:allday_slope_variance', 'f_screen:phone_screen_rapids_sumdurationunlock:allday_curvature_mean', 'f_screen:phone_screen_rapids_sumdurationunlock:allday_curvature_max', 'f_screen:phone_screen_rapids_sumdurationunlock:allday_num_inflection_points', 'f_screen:phone_screen_rapids_sumdurationunlock:allday_total_variation', 'f_screen:phone_screen_rapids_sumdurationunlock:allday_absolute_auc', 'f_screen:phone_screen_rapids_sumdurationunlock:allday_slope', 'f_screen:phone_screen_rapids_sumdurationunlock:allday_variance', 'f_screen:phone_screen_rapids_countepisodeunlock:allday_slope_variance', 'f_screen:phone_screen_rapids_countepisodeunlock:allday_curvature_mean', 'f_screen:phone_screen_rapids_countepisodeunlock:allday_curvature_max', 'f_screen:phone_screen_rapids_countepisodeunlock:allday_slope', 'f_screen:phone_screen_rapids_countepisodeunlock:allday_mean', 'f_screen:phone_screen_rapids_countepisodeunlock:allday_variance', 'f_screen:phone_screen_rapids_firstuseafter00unlock:allday_num_inflection_points', 'f_screen:phone_screen_rapids_firstuseafter00unlock:allday_total_variation', 'f_screen:phone_screen_rapids_firstuseafter00unlock:allday_slope', 'f_screen:phone_screen_rapids_firstuseafter00unlock:allday_variance']\n",
      "(339, 21)\n"
     ]
    }
   ],
   "source": [
    "df_screen_post = merge_datasets([screen_2019_2020, stress_endterm_2019_2020], on_column = 'pid', how = 'inner')\n",
    "df_screen_post = df_screen_post.dropna()\n",
    "print(df_screen_post.shape)\n",
    "_, df_screen_post_selected = perform_rfecv(df_screen_post)\n",
    "print(df_screen_post_selected.shape)"
   ]
  },
  {
   "cell_type": "code",
   "execution_count": 15,
   "id": "dc7bdf97-d1be-401c-8e77-b70c00b58918",
   "metadata": {
    "scrolled": true
   },
   "outputs": [],
   "source": [
    "#screen_post_results = evaluate_multiple_models(df_screen_post_selected, models_with_params, random_states)"
   ]
  },
  {
   "cell_type": "markdown",
   "id": "d2405343-6b40-4b9f-a25d-eedf3c6d8d0a",
   "metadata": {
    "jp-MarkdownHeadingCollapsed": true
   },
   "source": [
    "### Location and Endterm"
   ]
  },
  {
   "cell_type": "code",
   "execution_count": 16,
   "id": "be87430a-a015-48fe-be2f-6849095bc0bb",
   "metadata": {},
   "outputs": [
    {
     "name": "stdout",
     "output_type": "stream",
     "text": [
      "(298, 62)\n",
      "Optimal number of features: 39\n",
      "Features selected: ['f_loc:phone_locations_barnett_hometime:allday_slope_mean', 'f_loc:phone_locations_barnett_hometime:allday_curvature_mean', 'f_loc:phone_locations_barnett_hometime:allday_num_inflection_points', 'f_loc:phone_locations_barnett_hometime:allday_total_variation', 'f_loc:phone_locations_barnett_hometime:allday_absolute_auc', 'f_loc:phone_locations_barnett_hometime:allday_slope', 'f_loc:phone_locations_barnett_hometime:allday_variance', 'f_loc:phone_locations_barnett_disttravelled:allday_slope_mean', 'f_loc:phone_locations_barnett_disttravelled:allday_curvature_mean', 'f_loc:phone_locations_barnett_disttravelled:allday_num_inflection_points', 'f_loc:phone_locations_barnett_disttravelled:allday_absolute_auc', 'f_loc:phone_locations_barnett_disttravelled:allday_slope', 'f_loc:phone_locations_barnett_rog:allday_num_inflection_points', 'f_loc:phone_locations_barnett_rog:allday_total_variation', 'f_loc:phone_locations_barnett_rog:allday_slope', 'f_loc:phone_locations_barnett_rog:allday_mean', 'f_loc:phone_locations_barnett_rog:allday_variance', 'f_loc:phone_locations_barnett_siglocsvisited:allday_slope_mean', 'f_loc:phone_locations_barnett_siglocsvisited:allday_curvature_mean', 'f_loc:phone_locations_barnett_siglocsvisited:allday_curvature_max', 'f_loc:phone_locations_barnett_siglocsvisited:allday_absolute_auc', 'f_loc:phone_locations_barnett_siglocsvisited:allday_slope', 'f_loc:phone_locations_barnett_siglocsvisited:allday_mean', 'f_loc:phone_locations_barnett_siglocsvisited:allday_variance', 'f_loc:phone_locations_barnett_circdnrtn:allday_slope_mean', 'f_loc:phone_locations_barnett_circdnrtn:allday_slope_variance', 'f_loc:phone_locations_barnett_circdnrtn:allday_curvature_mean', 'f_loc:phone_locations_barnett_circdnrtn:allday_curvature_max', 'f_loc:phone_locations_barnett_circdnrtn:allday_total_variation', 'f_loc:phone_locations_barnett_circdnrtn:allday_slope', 'f_loc:phone_locations_barnett_circdnrtn:allday_mean', 'f_loc:phone_locations_barnett_circdnrtn:allday_variance', 'f_loc:phone_locations_barnett_probpause:allday_slope_mean', 'f_loc:phone_locations_barnett_probpause:allday_slope_variance', 'f_loc:phone_locations_barnett_probpause:allday_curvature_mean', 'f_loc:phone_locations_barnett_probpause:allday_curvature_max', 'f_loc:phone_locations_barnett_probpause:allday_absolute_auc', 'f_loc:phone_locations_barnett_probpause:allday_slope', 'f_loc:phone_locations_barnett_probpause:allday_variance']\n",
      "(298, 41)\n"
     ]
    }
   ],
   "source": [
    "df_location_post = merge_datasets([location_2019_2020, stress_endterm_2019_2020], on_column = 'pid', how = 'inner')\n",
    "df_location_post = df_location_post.dropna()\n",
    "print(df_location_post.shape)\n",
    "_, df_location_post_selected = perform_rfecv(df_location_post)\n",
    "print(df_location_post_selected.shape)"
   ]
  },
  {
   "cell_type": "code",
   "execution_count": 17,
   "id": "847dd026-43e7-4ada-b444-3b0baf1233cc",
   "metadata": {
    "scrolled": true
   },
   "outputs": [],
   "source": [
    "#location_post_results = evaluate_multiple_models(df_location_post_selected, models_with_params, random_states)"
   ]
  },
  {
   "cell_type": "markdown",
   "id": "625cb4bf-fb0e-4b8f-a73d-49ab06527564",
   "metadata": {
    "jp-MarkdownHeadingCollapsed": true
   },
   "source": [
    "### Sleep and Endterm"
   ]
  },
  {
   "cell_type": "code",
   "execution_count": 18,
   "id": "ab3c0864-49f9-4daf-ab8a-1201e1768cde",
   "metadata": {},
   "outputs": [
    {
     "name": "stdout",
     "output_type": "stream",
     "text": [
      "(320, 62)\n",
      "Optimal number of features: 54\n",
      "Features selected: ['f_slp:fitbit_sleep_intraday_rapids_sumdurationasleepunifiedmain:allday_slope_mean', 'f_slp:fitbit_sleep_intraday_rapids_sumdurationasleepunifiedmain:allday_slope_variance', 'f_slp:fitbit_sleep_intraday_rapids_sumdurationasleepunifiedmain:allday_curvature_mean', 'f_slp:fitbit_sleep_intraday_rapids_sumdurationasleepunifiedmain:allday_curvature_max', 'f_slp:fitbit_sleep_intraday_rapids_sumdurationasleepunifiedmain:allday_num_inflection_points', 'f_slp:fitbit_sleep_intraday_rapids_sumdurationasleepunifiedmain:allday_total_variation', 'f_slp:fitbit_sleep_intraday_rapids_sumdurationasleepunifiedmain:allday_absolute_auc', 'f_slp:fitbit_sleep_intraday_rapids_sumdurationasleepunifiedmain:allday_slope', 'f_slp:fitbit_sleep_intraday_rapids_sumdurationasleepunifiedmain:allday_mean', 'f_slp:fitbit_sleep_intraday_rapids_sumdurationasleepunifiedmain:allday_variance', 'f_slp:fitbit_sleep_intraday_rapids_sumdurationawakeunifiedmain:allday_slope_mean', 'f_slp:fitbit_sleep_intraday_rapids_sumdurationawakeunifiedmain:allday_curvature_mean', 'f_slp:fitbit_sleep_intraday_rapids_sumdurationawakeunifiedmain:allday_curvature_max', 'f_slp:fitbit_sleep_intraday_rapids_sumdurationawakeunifiedmain:allday_num_inflection_points', 'f_slp:fitbit_sleep_intraday_rapids_sumdurationawakeunifiedmain:allday_total_variation', 'f_slp:fitbit_sleep_intraday_rapids_sumdurationawakeunifiedmain:allday_absolute_auc', 'f_slp:fitbit_sleep_intraday_rapids_sumdurationawakeunifiedmain:allday_slope', 'f_slp:fitbit_sleep_intraday_rapids_sumdurationawakeunifiedmain:allday_mean', 'f_slp:fitbit_sleep_intraday_rapids_sumdurationawakeunifiedmain:allday_variance', 'f_slp:fitbit_sleep_intraday_rapids_countepisodeasleepunifiedmain:allday_slope_mean', 'f_slp:fitbit_sleep_intraday_rapids_countepisodeasleepunifiedmain:allday_slope_variance', 'f_slp:fitbit_sleep_intraday_rapids_countepisodeasleepunifiedmain:allday_curvature_mean', 'f_slp:fitbit_sleep_intraday_rapids_countepisodeasleepunifiedmain:allday_curvature_max', 'f_slp:fitbit_sleep_intraday_rapids_countepisodeasleepunifiedmain:allday_num_inflection_points', 'f_slp:fitbit_sleep_intraday_rapids_countepisodeasleepunifiedmain:allday_slope', 'f_slp:fitbit_sleep_intraday_rapids_countepisodeasleepunifiedmain:allday_mean', 'f_slp:fitbit_sleep_intraday_rapids_countepisodeasleepunifiedmain:allday_variance', 'f_slp:fitbit_sleep_intraday_rapids_countepisodeawakeunifiedmain:allday_slope_mean', 'f_slp:fitbit_sleep_intraday_rapids_countepisodeawakeunifiedmain:allday_slope_variance', 'f_slp:fitbit_sleep_intraday_rapids_countepisodeawakeunifiedmain:allday_curvature_mean', 'f_slp:fitbit_sleep_intraday_rapids_countepisodeawakeunifiedmain:allday_curvature_max', 'f_slp:fitbit_sleep_intraday_rapids_countepisodeawakeunifiedmain:allday_total_variation', 'f_slp:fitbit_sleep_intraday_rapids_countepisodeawakeunifiedmain:allday_absolute_auc', 'f_slp:fitbit_sleep_intraday_rapids_countepisodeawakeunifiedmain:allday_slope', 'f_slp:fitbit_sleep_summary_rapids_avgefficiencymain:allday_slope_mean', 'f_slp:fitbit_sleep_summary_rapids_avgefficiencymain:allday_slope_variance', 'f_slp:fitbit_sleep_summary_rapids_avgefficiencymain:allday_curvature_mean', 'f_slp:fitbit_sleep_summary_rapids_avgefficiencymain:allday_curvature_max', 'f_slp:fitbit_sleep_summary_rapids_avgefficiencymain:allday_num_inflection_points', 'f_slp:fitbit_sleep_summary_rapids_avgefficiencymain:allday_total_variation', 'f_slp:fitbit_sleep_summary_rapids_avgefficiencymain:allday_absolute_auc', 'f_slp:fitbit_sleep_summary_rapids_avgefficiencymain:allday_slope', 'f_slp:fitbit_sleep_summary_rapids_avgefficiencymain:allday_mean', 'f_slp:fitbit_sleep_summary_rapids_avgefficiencymain:allday_variance', 'f_slp:fitbit_sleep_summary_rapids_sumdurationinbedmain:allday_slope_mean', 'f_slp:fitbit_sleep_summary_rapids_sumdurationinbedmain:allday_slope_variance', 'f_slp:fitbit_sleep_summary_rapids_sumdurationinbedmain:allday_curvature_mean', 'f_slp:fitbit_sleep_summary_rapids_sumdurationinbedmain:allday_curvature_max', 'f_slp:fitbit_sleep_summary_rapids_sumdurationinbedmain:allday_num_inflection_points', 'f_slp:fitbit_sleep_summary_rapids_sumdurationinbedmain:allday_total_variation', 'f_slp:fitbit_sleep_summary_rapids_sumdurationinbedmain:allday_absolute_auc', 'f_slp:fitbit_sleep_summary_rapids_sumdurationinbedmain:allday_slope', 'f_slp:fitbit_sleep_summary_rapids_sumdurationinbedmain:allday_mean', 'f_slp:fitbit_sleep_summary_rapids_sumdurationinbedmain:allday_variance']\n",
      "(320, 56)\n"
     ]
    }
   ],
   "source": [
    "df_sleep_post = merge_datasets([sleep_2019_2020, stress_endterm_2019_2020], on_column = 'pid', how = 'inner')\n",
    "df_sleep_post = df_sleep_post.dropna()\n",
    "print(df_sleep_post.shape)\n",
    "_, df_sleep_post_selected = perform_rfecv(df_sleep_post)\n",
    "print(df_sleep_post_selected.shape)"
   ]
  },
  {
   "cell_type": "code",
   "execution_count": 19,
   "id": "ec631b47-675b-4012-94ef-057221c23d9e",
   "metadata": {
    "scrolled": true
   },
   "outputs": [],
   "source": [
    "#sleep_post_results = evaluate_multiple_models(df_sleep_post_selected, models_with_params, random_states)"
   ]
  },
  {
   "cell_type": "markdown",
   "id": "ea99393a-850a-485b-96b1-6f9ccd7b996a",
   "metadata": {
    "jp-MarkdownHeadingCollapsed": true
   },
   "source": [
    "### Steps and Endterm"
   ]
  },
  {
   "cell_type": "code",
   "execution_count": 20,
   "id": "a4342150-0af5-441f-81c3-b204b7700b0c",
   "metadata": {},
   "outputs": [
    {
     "name": "stdout",
     "output_type": "stream",
     "text": [
      "(329, 52)\n",
      "Optimal number of features: 37\n",
      "Features selected: ['f_steps:fitbit_steps_intraday_rapids_sumsteps:allday_num_inflection_points', 'f_steps:fitbit_steps_intraday_rapids_sumsteps:allday_total_variation', 'f_steps:fitbit_steps_intraday_rapids_sumsteps:allday_absolute_auc', 'f_steps:fitbit_steps_intraday_rapids_sumsteps:allday_slope', 'f_steps:fitbit_steps_intraday_rapids_sumsteps:allday_mean', 'f_steps:fitbit_steps_intraday_rapids_sumsteps:allday_variance', 'f_steps:fitbit_steps_intraday_rapids_countepisodesedentarybout:allday_slope_mean', 'f_steps:fitbit_steps_intraday_rapids_countepisodesedentarybout:allday_curvature_mean', 'f_steps:fitbit_steps_intraday_rapids_countepisodesedentarybout:allday_curvature_max', 'f_steps:fitbit_steps_intraday_rapids_countepisodesedentarybout:allday_num_inflection_points', 'f_steps:fitbit_steps_intraday_rapids_countepisodesedentarybout:allday_total_variation', 'f_steps:fitbit_steps_intraday_rapids_countepisodesedentarybout:allday_absolute_auc', 'f_steps:fitbit_steps_intraday_rapids_countepisodesedentarybout:allday_slope', 'f_steps:fitbit_steps_intraday_rapids_countepisodesedentarybout:allday_mean', 'f_steps:fitbit_steps_intraday_rapids_countepisodesedentarybout:allday_variance', 'f_steps:fitbit_steps_intraday_rapids_sumdurationsedentarybout:allday_slope_mean', 'f_steps:fitbit_steps_intraday_rapids_sumdurationsedentarybout:allday_slope_variance', 'f_steps:fitbit_steps_intraday_rapids_sumdurationsedentarybout:allday_curvature_mean', 'f_steps:fitbit_steps_intraday_rapids_sumdurationsedentarybout:allday_curvature_max', 'f_steps:fitbit_steps_intraday_rapids_sumdurationsedentarybout:allday_num_inflection_points', 'f_steps:fitbit_steps_intraday_rapids_sumdurationsedentarybout:allday_total_variation', 'f_steps:fitbit_steps_intraday_rapids_sumdurationsedentarybout:allday_variance', 'f_steps:fitbit_steps_intraday_rapids_countepisodeactivebout:allday_slope_mean', 'f_steps:fitbit_steps_intraday_rapids_countepisodeactivebout:allday_slope_variance', 'f_steps:fitbit_steps_intraday_rapids_countepisodeactivebout:allday_curvature_mean', 'f_steps:fitbit_steps_intraday_rapids_countepisodeactivebout:allday_curvature_max', 'f_steps:fitbit_steps_intraday_rapids_countepisodeactivebout:allday_slope', 'f_steps:fitbit_steps_intraday_rapids_countepisodeactivebout:allday_mean', 'f_steps:fitbit_steps_intraday_rapids_countepisodeactivebout:allday_variance', 'f_steps:fitbit_steps_intraday_rapids_sumdurationactivebout:allday_slope_mean', 'f_steps:fitbit_steps_intraday_rapids_sumdurationactivebout:allday_curvature_mean', 'f_steps:fitbit_steps_intraday_rapids_sumdurationactivebout:allday_curvature_max', 'f_steps:fitbit_steps_intraday_rapids_sumdurationactivebout:allday_num_inflection_points', 'f_steps:fitbit_steps_intraday_rapids_sumdurationactivebout:allday_total_variation', 'f_steps:fitbit_steps_intraday_rapids_sumdurationactivebout:allday_slope', 'f_steps:fitbit_steps_intraday_rapids_sumdurationactivebout:allday_mean', 'f_steps:fitbit_steps_intraday_rapids_sumdurationactivebout:allday_variance']\n",
      "(329, 39)\n"
     ]
    }
   ],
   "source": [
    "df_steps_post = merge_datasets([steps_2019_2020, stress_endterm_2019_2020], on_column = 'pid', how = 'inner')\n",
    "df_steps_post = df_steps_post.dropna()\n",
    "print(df_steps_post.shape)\n",
    "_, df_steps_post_selected = perform_rfecv(df_steps_post)\n",
    "print(df_steps_post_selected.shape)"
   ]
  },
  {
   "cell_type": "code",
   "execution_count": 21,
   "id": "2af02669-1f44-4af5-9b18-5bb4b00c3440",
   "metadata": {
    "scrolled": true
   },
   "outputs": [],
   "source": [
    "#steps_post_results = evaluate_multiple_models(df_steps_post_selected, models_with_params, random_states)"
   ]
  },
  {
   "cell_type": "markdown",
   "id": "4826229e-837e-472d-9b64-18fc5ceb51e8",
   "metadata": {
    "jp-MarkdownHeadingCollapsed": true
   },
   "source": [
    "### Sensors and Endterm"
   ]
  },
  {
   "cell_type": "code",
   "execution_count": 22,
   "id": "a78e4880-f336-426d-8a72-facbea138149",
   "metadata": {
    "scrolled": true
   },
   "outputs": [
    {
     "name": "stdout",
     "output_type": "stream",
     "text": [
      "(278, 161)\n",
      "Optimal number of features: 121\n",
      "Features selected: ['f_blue:phone_bluetooth_rapids_countscans:allday_slope_mean', 'f_blue:phone_bluetooth_rapids_countscans:allday_slope', 'f_blue:phone_bluetooth_rapids_uniquedevices:allday_slope', 'f_blue:phone_bluetooth_rapids_countscansmostuniquedevice:allday_slope_mean', 'f_blue:phone_bluetooth_rapids_countscansmostuniquedevice:allday_curvature_mean', 'f_blue:phone_bluetooth_rapids_countscansmostuniquedevice:allday_curvature_max', 'f_blue:phone_bluetooth_rapids_countscansmostuniquedevice:allday_slope', 'f_blue:phone_bluetooth_rapids_countscansmostuniquedevice:allday_mean', 'f_loc:phone_locations_barnett_hometime:allday_slope_mean', 'f_loc:phone_locations_barnett_hometime:allday_curvature_mean', 'f_loc:phone_locations_barnett_hometime:allday_num_inflection_points', 'f_loc:phone_locations_barnett_hometime:allday_total_variation', 'f_loc:phone_locations_barnett_hometime:allday_absolute_auc', 'f_loc:phone_locations_barnett_hometime:allday_slope', 'f_loc:phone_locations_barnett_hometime:allday_variance', 'f_loc:phone_locations_barnett_disttravelled:allday_slope_mean', 'f_loc:phone_locations_barnett_disttravelled:allday_num_inflection_points', 'f_loc:phone_locations_barnett_disttravelled:allday_absolute_auc', 'f_loc:phone_locations_barnett_disttravelled:allday_slope', 'f_loc:phone_locations_barnett_rog:allday_num_inflection_points', 'f_loc:phone_locations_barnett_rog:allday_total_variation', 'f_loc:phone_locations_barnett_rog:allday_slope', 'f_loc:phone_locations_barnett_rog:allday_mean', 'f_loc:phone_locations_barnett_siglocsvisited:allday_slope_mean', 'f_loc:phone_locations_barnett_siglocsvisited:allday_curvature_mean', 'f_loc:phone_locations_barnett_siglocsvisited:allday_curvature_max', 'f_loc:phone_locations_barnett_siglocsvisited:allday_slope', 'f_loc:phone_locations_barnett_siglocsvisited:allday_mean', 'f_loc:phone_locations_barnett_siglocsvisited:allday_variance', 'f_loc:phone_locations_barnett_circdnrtn:allday_slope_mean', 'f_loc:phone_locations_barnett_circdnrtn:allday_curvature_mean', 'f_loc:phone_locations_barnett_circdnrtn:allday_total_variation', 'f_loc:phone_locations_barnett_circdnrtn:allday_slope', 'f_loc:phone_locations_barnett_circdnrtn:allday_mean', 'f_loc:phone_locations_barnett_circdnrtn:allday_variance', 'f_loc:phone_locations_barnett_probpause:allday_slope_mean', 'f_loc:phone_locations_barnett_probpause:allday_curvature_mean', 'f_loc:phone_locations_barnett_probpause:allday_curvature_max', 'f_loc:phone_locations_barnett_probpause:allday_absolute_auc', 'f_loc:phone_locations_barnett_probpause:allday_slope', 'f_loc:phone_locations_barnett_probpause:allday_variance', 'f_screen:phone_screen_rapids_sumdurationunlock:allday_slope_mean', 'f_screen:phone_screen_rapids_sumdurationunlock:allday_slope_variance', 'f_screen:phone_screen_rapids_sumdurationunlock:allday_curvature_mean', 'f_screen:phone_screen_rapids_sumdurationunlock:allday_curvature_max', 'f_screen:phone_screen_rapids_sumdurationunlock:allday_num_inflection_points', 'f_screen:phone_screen_rapids_sumdurationunlock:allday_total_variation', 'f_screen:phone_screen_rapids_sumdurationunlock:allday_absolute_auc', 'f_screen:phone_screen_rapids_sumdurationunlock:allday_slope', 'f_screen:phone_screen_rapids_sumdurationunlock:allday_variance', 'f_screen:phone_screen_rapids_countepisodeunlock:allday_slope_variance', 'f_screen:phone_screen_rapids_countepisodeunlock:allday_curvature_mean', 'f_screen:phone_screen_rapids_countepisodeunlock:allday_curvature_max', 'f_screen:phone_screen_rapids_countepisodeunlock:allday_slope', 'f_screen:phone_screen_rapids_countepisodeunlock:allday_mean', 'f_screen:phone_screen_rapids_countepisodeunlock:allday_variance', 'f_screen:phone_screen_rapids_firstuseafter00unlock:allday_total_variation', 'f_screen:phone_screen_rapids_firstuseafter00unlock:allday_slope', 'f_screen:phone_screen_rapids_firstuseafter00unlock:allday_variance', 'f_slp:fitbit_sleep_intraday_rapids_sumdurationasleepunifiedmain:allday_slope_mean', 'f_slp:fitbit_sleep_intraday_rapids_sumdurationasleepunifiedmain:allday_slope_variance', 'f_slp:fitbit_sleep_intraday_rapids_sumdurationasleepunifiedmain:allday_curvature_mean', 'f_slp:fitbit_sleep_intraday_rapids_sumdurationasleepunifiedmain:allday_num_inflection_points', 'f_slp:fitbit_sleep_intraday_rapids_sumdurationasleepunifiedmain:allday_total_variation', 'f_slp:fitbit_sleep_intraday_rapids_sumdurationasleepunifiedmain:allday_absolute_auc', 'f_slp:fitbit_sleep_intraday_rapids_sumdurationasleepunifiedmain:allday_slope', 'f_slp:fitbit_sleep_intraday_rapids_sumdurationasleepunifiedmain:allday_mean', 'f_slp:fitbit_sleep_intraday_rapids_sumdurationasleepunifiedmain:allday_variance', 'f_slp:fitbit_sleep_intraday_rapids_sumdurationawakeunifiedmain:allday_slope_mean', 'f_slp:fitbit_sleep_intraday_rapids_sumdurationawakeunifiedmain:allday_total_variation', 'f_slp:fitbit_sleep_intraday_rapids_sumdurationawakeunifiedmain:allday_absolute_auc', 'f_slp:fitbit_sleep_intraday_rapids_sumdurationawakeunifiedmain:allday_slope', 'f_slp:fitbit_sleep_intraday_rapids_sumdurationawakeunifiedmain:allday_variance', 'f_slp:fitbit_sleep_intraday_rapids_countepisodeasleepunifiedmain:allday_slope_mean', 'f_slp:fitbit_sleep_intraday_rapids_countepisodeasleepunifiedmain:allday_curvature_mean', 'f_slp:fitbit_sleep_intraday_rapids_countepisodeasleepunifiedmain:allday_slope', 'f_slp:fitbit_sleep_intraday_rapids_countepisodeasleepunifiedmain:allday_variance', 'f_slp:fitbit_sleep_intraday_rapids_countepisodeawakeunifiedmain:allday_curvature_mean', 'f_slp:fitbit_sleep_intraday_rapids_countepisodeawakeunifiedmain:allday_curvature_max', 'f_slp:fitbit_sleep_intraday_rapids_countepisodeawakeunifiedmain:allday_absolute_auc', 'f_slp:fitbit_sleep_intraday_rapids_countepisodeawakeunifiedmain:allday_slope', 'f_slp:fitbit_sleep_summary_rapids_avgefficiencymain:allday_slope_mean', 'f_slp:fitbit_sleep_summary_rapids_avgefficiencymain:allday_curvature_mean', 'f_slp:fitbit_sleep_summary_rapids_avgefficiencymain:allday_curvature_max', 'f_slp:fitbit_sleep_summary_rapids_avgefficiencymain:allday_num_inflection_points', 'f_slp:fitbit_sleep_summary_rapids_avgefficiencymain:allday_total_variation', 'f_slp:fitbit_sleep_summary_rapids_avgefficiencymain:allday_slope', 'f_slp:fitbit_sleep_summary_rapids_avgefficiencymain:allday_mean', 'f_slp:fitbit_sleep_summary_rapids_avgefficiencymain:allday_variance', 'f_slp:fitbit_sleep_summary_rapids_sumdurationinbedmain:allday_slope_mean', 'f_slp:fitbit_sleep_summary_rapids_sumdurationinbedmain:allday_slope_variance', 'f_slp:fitbit_sleep_summary_rapids_sumdurationinbedmain:allday_curvature_mean', 'f_slp:fitbit_sleep_summary_rapids_sumdurationinbedmain:allday_curvature_max', 'f_slp:fitbit_sleep_summary_rapids_sumdurationinbedmain:allday_num_inflection_points', 'f_slp:fitbit_sleep_summary_rapids_sumdurationinbedmain:allday_total_variation', 'f_slp:fitbit_sleep_summary_rapids_sumdurationinbedmain:allday_mean', 'f_slp:fitbit_sleep_summary_rapids_sumdurationinbedmain:allday_variance', 'f_steps:fitbit_steps_intraday_rapids_sumsteps:allday_num_inflection_points', 'f_steps:fitbit_steps_intraday_rapids_sumsteps:allday_total_variation', 'f_steps:fitbit_steps_intraday_rapids_sumsteps:allday_slope', 'f_steps:fitbit_steps_intraday_rapids_sumsteps:allday_variance', 'f_steps:fitbit_steps_intraday_rapids_countepisodesedentarybout:allday_curvature_mean', 'f_steps:fitbit_steps_intraday_rapids_countepisodesedentarybout:allday_curvature_max', 'f_steps:fitbit_steps_intraday_rapids_countepisodesedentarybout:allday_total_variation', 'f_steps:fitbit_steps_intraday_rapids_countepisodesedentarybout:allday_absolute_auc', 'f_steps:fitbit_steps_intraday_rapids_countepisodesedentarybout:allday_mean', 'f_steps:fitbit_steps_intraday_rapids_countepisodesedentarybout:allday_variance', 'f_steps:fitbit_steps_intraday_rapids_sumdurationsedentarybout:allday_slope_mean', 'f_steps:fitbit_steps_intraday_rapids_sumdurationsedentarybout:allday_num_inflection_points', 'f_steps:fitbit_steps_intraday_rapids_sumdurationsedentarybout:allday_total_variation', 'f_steps:fitbit_steps_intraday_rapids_countepisodeactivebout:allday_slope_mean', 'f_steps:fitbit_steps_intraday_rapids_countepisodeactivebout:allday_slope_variance', 'f_steps:fitbit_steps_intraday_rapids_countepisodeactivebout:allday_curvature_mean', 'f_steps:fitbit_steps_intraday_rapids_countepisodeactivebout:allday_curvature_max', 'f_steps:fitbit_steps_intraday_rapids_countepisodeactivebout:allday_slope', 'f_steps:fitbit_steps_intraday_rapids_sumdurationactivebout:allday_curvature_mean', 'f_steps:fitbit_steps_intraday_rapids_sumdurationactivebout:allday_curvature_max', 'f_steps:fitbit_steps_intraday_rapids_sumdurationactivebout:allday_num_inflection_points', 'f_steps:fitbit_steps_intraday_rapids_sumdurationactivebout:allday_slope', 'f_steps:fitbit_steps_intraday_rapids_sumdurationactivebout:allday_mean', 'f_steps:fitbit_steps_intraday_rapids_sumdurationactivebout:allday_variance']\n",
      "(278, 123)\n"
     ]
    }
   ],
   "source": [
    "### Here i left out calls data becuase of high missing rates\n",
    "#df_sensors_post = merge_datasets([bluetooth_2019_2020, location_2019_2020, screen_2019_2020, sleep_2019_2020, steps_2019_2020, stress_endterm_2019_2020], on_column='pid', how='inner')\n",
    "\n",
    "df_sensors_post = merge_datasets([df_bluetooth_post_selected, df_location_post_selected, df_screen_post_selected, df_sleep_post_selected, df_steps_post_selected, stress_endterm_2019_2020], on_column=['pid', 'PSS_10items_POST'], how='inner')\n",
    "\n",
    "df_sensors_post = df_sensors_post.dropna()\n",
    "print(df_sensors_post.shape)\n",
    "_, df_sensors_post_selected = perform_rfecv(df_sensors_post)\n",
    "print(df_sensors_post_selected.shape)\n"
   ]
  },
  {
   "cell_type": "code",
   "execution_count": 24,
   "id": "1d3b4dbf-2c67-416e-8953-75b8496f1fbc",
   "metadata": {
    "scrolled": true
   },
   "outputs": [
    {
     "name": "stdout",
     "output_type": "stream",
     "text": [
      "Evaluating model: Linear Regression\n"
     ]
    },
    {
     "name": "stderr",
     "output_type": "stream",
     "text": [
      "10it [00:03,  2.91it/s]\n",
      "10it [00:01,  5.04it/s]\n",
      "10it [00:02,  4.43it/s]\n",
      "10it [00:02,  4.06it/s]\n",
      "10it [00:04,  2.12it/s]\n",
      "10it [00:01,  5.43it/s]\n",
      "10it [00:02,  3.66it/s]\n",
      "10it [00:04,  2.41it/s]\n",
      "10it [00:02,  4.06it/s]\n",
      "10it [00:03,  3.06it/s]\n"
     ]
    },
    {
     "name": "stdout",
     "output_type": "stream",
     "text": [
      "Results for Linear Regression:\n",
      "MSE: Avg = 1018133.2654, Std = 456650.7606\n",
      "RMSE: Avg = 980.9663, Std = 236.3014\n",
      "MAE: Avg = 87.6349, Std = 18.8101\n",
      "R²: Avg = -23751.8746, Std = 10653.5840\n",
      "Evaluating model: Lasso\n"
     ]
    },
    {
     "name": "stderr",
     "output_type": "stream",
     "text": [
      "0it [00:00, ?it/s]/Library/Frameworks/Python.framework/Versions/3.11/lib/python3.11/site-packages/sklearn/linear_model/_coordinate_descent.py:628: ConvergenceWarning: Objective did not converge. You might want to increase the number of iterations, check the scale of the features or consider increasing regularisation. Duality gap: 9.523e-01, tolerance: 8.436e-01\n",
      "  model = cd_fast.enet_coordinate_descent(\n",
      "10it [00:27,  2.77s/it]\n",
      "10it [00:27,  2.74s/it]\n",
      "10it [00:27,  2.80s/it]\n",
      "10it [00:22,  2.25s/it]\n",
      "0it [00:00, ?it/s]/Library/Frameworks/Python.framework/Versions/3.11/lib/python3.11/site-packages/sklearn/linear_model/_coordinate_descent.py:628: ConvergenceWarning: Objective did not converge. You might want to increase the number of iterations, check the scale of the features or consider increasing regularisation. Duality gap: 1.130e+00, tolerance: 8.660e-01\n",
      "  model = cd_fast.enet_coordinate_descent(\n",
      "10it [00:30,  3.10s/it]\n",
      "10it [00:17,  1.74s/it]\n",
      "3it [00:03,  1.22s/it]/Library/Frameworks/Python.framework/Versions/3.11/lib/python3.11/site-packages/sklearn/linear_model/_coordinate_descent.py:628: ConvergenceWarning: Objective did not converge. You might want to increase the number of iterations, check the scale of the features or consider increasing regularisation. Duality gap: 1.065e+00, tolerance: 8.541e-01\n",
      "  model = cd_fast.enet_coordinate_descent(\n",
      "7it [00:15,  1.96s/it]/Library/Frameworks/Python.framework/Versions/3.11/lib/python3.11/site-packages/sklearn/linear_model/_coordinate_descent.py:628: ConvergenceWarning: Objective did not converge. You might want to increase the number of iterations, check the scale of the features or consider increasing regularisation. Duality gap: 1.615e+00, tolerance: 8.013e-01\n",
      "  model = cd_fast.enet_coordinate_descent(\n",
      "10it [00:25,  2.60s/it]\n",
      "10it [00:17,  1.77s/it]\n",
      "10it [00:16,  1.63s/it]\n",
      "10it [00:19,  1.96s/it]\n"
     ]
    },
    {
     "name": "stdout",
     "output_type": "stream",
     "text": [
      "Results for Lasso:\n",
      "MSE: Avg = 41.2907, Std = 0.3047\n",
      "RMSE: Avg = 6.4257, Std = 0.0237\n",
      "MAE: Avg = 5.1247, Std = 0.0252\n",
      "R²: Avg = 0.0367, Std = 0.0071\n",
      "Evaluating model: Ridge\n"
     ]
    },
    {
     "name": "stderr",
     "output_type": "stream",
     "text": [
      "10it [01:21,  8.17s/it]\n",
      "10it [01:26,  8.61s/it]\n",
      "10it [01:28,  8.81s/it]\n",
      "10it [01:26,  8.68s/it]\n",
      "10it [01:23,  8.32s/it]\n",
      "10it [01:26,  8.60s/it]\n",
      "10it [01:19,  7.95s/it]\n",
      "10it [01:13,  7.40s/it]\n",
      "10it [01:13,  7.37s/it]\n",
      "10it [01:17,  7.71s/it]\n"
     ]
    },
    {
     "name": "stdout",
     "output_type": "stream",
     "text": [
      "Results for Ridge:\n",
      "MSE: Avg = 79472.9452, Std = 36911.9853\n",
      "RMSE: Avg = 272.0028, Std = 74.0772\n",
      "MAE: Avg = 25.3684, Std = 4.8813\n",
      "R²: Avg = -1853.0902, Std = 861.1503\n",
      "Evaluating model: Random Forest\n"
     ]
    },
    {
     "name": "stderr",
     "output_type": "stream",
     "text": [
      "10it [01:16,  7.67s/it]\n",
      "10it [01:15,  7.57s/it]\n",
      "10it [01:15,  7.53s/it]\n",
      "10it [01:15,  7.56s/it]\n",
      "10it [01:15,  7.52s/it]\n",
      "10it [01:14,  7.48s/it]\n",
      "10it [01:12,  7.30s/it]\n",
      "10it [01:11,  7.16s/it]\n",
      "10it [01:16,  7.61s/it]\n",
      "10it [01:15,  7.52s/it]\n"
     ]
    },
    {
     "name": "stdout",
     "output_type": "stream",
     "text": [
      "Results for Random Forest:\n",
      "MSE: Avg = 41.8946, Std = 0.6084\n",
      "RMSE: Avg = 6.4724, Std = 0.0470\n",
      "MAE: Avg = 5.1702, Std = 0.0477\n",
      "R²: Avg = 0.0226, Std = 0.0142\n",
      "Evaluating model: XGBoost\n"
     ]
    },
    {
     "name": "stderr",
     "output_type": "stream",
     "text": [
      "10it [00:30,  3.05s/it]\n",
      "10it [00:31,  3.20s/it]\n",
      "10it [00:30,  3.04s/it]\n",
      "10it [00:29,  2.97s/it]\n",
      "10it [00:31,  3.10s/it]\n",
      "10it [00:30,  3.03s/it]\n",
      "10it [00:29,  2.99s/it]\n",
      "10it [00:30,  3.06s/it]\n",
      "10it [00:30,  3.01s/it]\n",
      "10it [00:32,  3.23s/it]\n"
     ]
    },
    {
     "name": "stdout",
     "output_type": "stream",
     "text": [
      "Results for XGBoost:\n",
      "MSE: Avg = 48.7364, Std = 1.7825\n",
      "RMSE: Avg = 6.9800, Std = 0.1287\n",
      "MAE: Avg = 5.6837, Std = 0.1055\n",
      "R²: Avg = -0.1370, Std = 0.0416\n",
      "Evaluating model: SVM\n"
     ]
    },
    {
     "name": "stderr",
     "output_type": "stream",
     "text": [
      "10it [00:02,  4.84it/s]\n",
      "10it [00:01,  5.13it/s]\n",
      "10it [00:01,  5.23it/s]\n",
      "10it [00:01,  5.28it/s]\n",
      "10it [00:01,  5.16it/s]\n",
      "10it [00:01,  5.27it/s]\n",
      "10it [00:01,  5.24it/s]\n",
      "10it [00:01,  5.20it/s]\n",
      "10it [00:01,  5.13it/s]\n",
      "10it [00:01,  5.18it/s]\n"
     ]
    },
    {
     "name": "stdout",
     "output_type": "stream",
     "text": [
      "Results for SVM:\n",
      "MSE: Avg = 1911.2877, Std = 2143.2278\n",
      "RMSE: Avg = 33.7792, Std = 27.7534\n",
      "MAE: Avg = 7.3324, Std = 2.0170\n",
      "R²: Avg = -43.5900, Std = 50.0011\n",
      "Evaluating model: Median Regressor\n"
     ]
    },
    {
     "name": "stderr",
     "output_type": "stream",
     "text": [
      "10it [00:00, 222.40it/s]\n",
      "10it [00:00, 246.94it/s]\n",
      "10it [00:00, 255.85it/s]\n",
      "10it [00:00, 252.33it/s]\n",
      "10it [00:00, 255.17it/s]\n",
      "10it [00:00, 255.12it/s]\n",
      "10it [00:00, 257.37it/s]\n",
      "10it [00:00, 252.30it/s]\n",
      "10it [00:00, 257.82it/s]\n",
      "10it [00:00, 257.47it/s]"
     ]
    },
    {
     "name": "stdout",
     "output_type": "stream",
     "text": [
      "Results for Median Regressor:\n",
      "MSE: Avg = 42.8813, Std = 0.0000\n",
      "RMSE: Avg = 6.5484, Std = 0.0000\n",
      "MAE: Avg = 5.1763, Std = 0.0000\n",
      "R²: Avg = -0.0004, Std = 0.0000\n",
      "\n",
      "Best model based on R²: Lasso with R² = 0.0367\n"
     ]
    },
    {
     "name": "stderr",
     "output_type": "stream",
     "text": [
      "\n"
     ]
    }
   ],
   "source": [
    "sensors_post_results = evaluate_multiple_models(df_sensors_post_selected, models_with_params, random_states)\n"
   ]
  },
  {
   "cell_type": "markdown",
   "id": "ebb60a0f-3488-477d-a4e5-b1dedb5bbebf",
   "metadata": {
    "jp-MarkdownHeadingCollapsed": true
   },
   "source": [
    "### EMA, Sensors, and Endterm"
   ]
  },
  {
   "cell_type": "code",
   "execution_count": 25,
   "id": "12846236-00e4-4f40-aec7-9e20e992b3f5",
   "metadata": {
    "scrolled": true
   },
   "outputs": [
    {
     "name": "stdout",
     "output_type": "stream",
     "text": [
      "(221, 165)\n",
      "Optimal number of features: 124\n",
      "Features selected: ['phq4_EMA_mean', 'phq4_EMA_median', 'phq4_EMA_max', 'phq4_EMA_min', 'phq4_EMA_std', 'phq4_EMA_skew', 'phq4_EMA_kurt', 'phq4_EMA_autocorr', 'phq4_EMA_rmsd', 'phq4_anxiety_EMA_mean', 'phq4_anxiety_EMA_std', 'phq4_anxiety_EMA_skew', 'phq4_anxiety_EMA_autocorr', 'phq4_anxiety_EMA_rmsd', 'phq4_depression_EMA_mean', 'phq4_depression_EMA_std', 'phq4_depression_EMA_skew', 'phq4_depression_EMA_iqr', 'phq4_depression_EMA_autocorr', 'phq4_depression_EMA_rmsd', 'positive_affect_EMA_mean', 'positive_affect_EMA_median', 'positive_affect_EMA_max', 'positive_affect_EMA_min', 'positive_affect_EMA_std', 'positive_affect_EMA_skew', 'positive_affect_EMA_kurt', 'positive_affect_EMA_autocorr', 'positive_affect_EMA_rmsd', 'negative_affect_EMA_mean', 'negative_affect_EMA_median', 'negative_affect_EMA_max', 'negative_affect_EMA_std', 'negative_affect_EMA_skew', 'negative_affect_EMA_kurt', 'negative_affect_EMA_iqr', 'negative_affect_EMA_autocorr', 'negative_affect_EMA_rmsd', 'f_blue:phone_bluetooth_rapids_countscans:allday_slope_mean', 'f_blue:phone_bluetooth_rapids_countscans:allday_slope', 'f_blue:phone_bluetooth_rapids_countscansmostuniquedevice:allday_slope_mean', 'f_blue:phone_bluetooth_rapids_countscansmostuniquedevice:allday_curvature_mean', 'f_blue:phone_bluetooth_rapids_countscansmostuniquedevice:allday_curvature_max', 'f_blue:phone_bluetooth_rapids_countscansmostuniquedevice:allday_slope', 'f_blue:phone_bluetooth_rapids_countscansmostuniquedevice:allday_mean', 'f_loc:phone_locations_barnett_hometime:allday_curvature_mean', 'f_loc:phone_locations_barnett_hometime:allday_num_inflection_points', 'f_loc:phone_locations_barnett_hometime:allday_total_variation', 'f_loc:phone_locations_barnett_hometime:allday_absolute_auc', 'f_loc:phone_locations_barnett_hometime:allday_slope', 'f_loc:phone_locations_barnett_hometime:allday_variance', 'f_loc:phone_locations_barnett_disttravelled:allday_num_inflection_points', 'f_loc:phone_locations_barnett_disttravelled:allday_absolute_auc', 'f_loc:phone_locations_barnett_disttravelled:allday_slope', 'f_loc:phone_locations_barnett_rog:allday_mean', 'f_loc:phone_locations_barnett_siglocsvisited:allday_slope_mean', 'f_loc:phone_locations_barnett_siglocsvisited:allday_curvature_mean', 'f_loc:phone_locations_barnett_siglocsvisited:allday_curvature_max', 'f_loc:phone_locations_barnett_siglocsvisited:allday_slope', 'f_loc:phone_locations_barnett_siglocsvisited:allday_variance', 'f_loc:phone_locations_barnett_circdnrtn:allday_slope_mean', 'f_loc:phone_locations_barnett_circdnrtn:allday_curvature_mean', 'f_loc:phone_locations_barnett_circdnrtn:allday_total_variation', 'f_loc:phone_locations_barnett_circdnrtn:allday_slope', 'f_loc:phone_locations_barnett_circdnrtn:allday_mean', 'f_loc:phone_locations_barnett_probpause:allday_slope_mean', 'f_loc:phone_locations_barnett_probpause:allday_curvature_max', 'f_loc:phone_locations_barnett_probpause:allday_slope', 'f_loc:phone_locations_barnett_probpause:allday_variance', 'f_screen:phone_screen_rapids_sumdurationunlock:allday_slope_mean', 'f_screen:phone_screen_rapids_sumdurationunlock:allday_slope_variance', 'f_screen:phone_screen_rapids_sumdurationunlock:allday_curvature_mean', 'f_screen:phone_screen_rapids_sumdurationunlock:allday_curvature_max', 'f_screen:phone_screen_rapids_sumdurationunlock:allday_total_variation', 'f_screen:phone_screen_rapids_sumdurationunlock:allday_absolute_auc', 'f_screen:phone_screen_rapids_sumdurationunlock:allday_slope', 'f_screen:phone_screen_rapids_sumdurationunlock:allday_variance', 'f_screen:phone_screen_rapids_countepisodeunlock:allday_curvature_mean', 'f_screen:phone_screen_rapids_countepisodeunlock:allday_curvature_max', 'f_screen:phone_screen_rapids_countepisodeunlock:allday_slope', 'f_screen:phone_screen_rapids_countepisodeunlock:allday_variance', 'f_screen:phone_screen_rapids_firstuseafter00unlock:allday_total_variation', 'f_screen:phone_screen_rapids_firstuseafter00unlock:allday_slope', 'f_screen:phone_screen_rapids_firstuseafter00unlock:allday_variance', 'f_slp:fitbit_sleep_intraday_rapids_sumdurationasleepunifiedmain:allday_slope_variance', 'f_slp:fitbit_sleep_intraday_rapids_sumdurationasleepunifiedmain:allday_curvature_mean', 'f_slp:fitbit_sleep_intraday_rapids_sumdurationasleepunifiedmain:allday_absolute_auc', 'f_slp:fitbit_sleep_intraday_rapids_sumdurationasleepunifiedmain:allday_slope', 'f_slp:fitbit_sleep_intraday_rapids_sumdurationasleepunifiedmain:allday_mean', 'f_slp:fitbit_sleep_intraday_rapids_sumdurationawakeunifiedmain:allday_slope_mean', 'f_slp:fitbit_sleep_intraday_rapids_sumdurationawakeunifiedmain:allday_total_variation', 'f_slp:fitbit_sleep_intraday_rapids_countepisodeasleepunifiedmain:allday_curvature_mean', 'f_slp:fitbit_sleep_intraday_rapids_countepisodeasleepunifiedmain:allday_slope', 'f_slp:fitbit_sleep_intraday_rapids_countepisodeawakeunifiedmain:allday_curvature_mean', 'f_slp:fitbit_sleep_intraday_rapids_countepisodeawakeunifiedmain:allday_curvature_max', 'f_slp:fitbit_sleep_summary_rapids_avgefficiencymain:allday_slope_mean', 'f_slp:fitbit_sleep_summary_rapids_avgefficiencymain:allday_curvature_mean', 'f_slp:fitbit_sleep_summary_rapids_avgefficiencymain:allday_slope', 'f_slp:fitbit_sleep_summary_rapids_avgefficiencymain:allday_mean', 'f_slp:fitbit_sleep_summary_rapids_avgefficiencymain:allday_variance', 'f_slp:fitbit_sleep_summary_rapids_sumdurationinbedmain:allday_slope_mean', 'f_slp:fitbit_sleep_summary_rapids_sumdurationinbedmain:allday_slope_variance', 'f_slp:fitbit_sleep_summary_rapids_sumdurationinbedmain:allday_curvature_mean', 'f_slp:fitbit_sleep_summary_rapids_sumdurationinbedmain:allday_curvature_max', 'f_slp:fitbit_sleep_summary_rapids_sumdurationinbedmain:allday_total_variation', 'f_slp:fitbit_sleep_summary_rapids_sumdurationinbedmain:allday_mean', 'f_slp:fitbit_sleep_summary_rapids_sumdurationinbedmain:allday_variance', 'f_steps:fitbit_steps_intraday_rapids_sumsteps:allday_num_inflection_points', 'f_steps:fitbit_steps_intraday_rapids_sumsteps:allday_slope', 'f_steps:fitbit_steps_intraday_rapids_sumsteps:allday_variance', 'f_steps:fitbit_steps_intraday_rapids_countepisodesedentarybout:allday_curvature_mean', 'f_steps:fitbit_steps_intraday_rapids_countepisodesedentarybout:allday_absolute_auc', 'f_steps:fitbit_steps_intraday_rapids_countepisodesedentarybout:allday_variance', 'f_steps:fitbit_steps_intraday_rapids_sumdurationsedentarybout:allday_slope_mean', 'f_steps:fitbit_steps_intraday_rapids_sumdurationsedentarybout:allday_total_variation', 'f_steps:fitbit_steps_intraday_rapids_countepisodeactivebout:allday_slope_mean', 'f_steps:fitbit_steps_intraday_rapids_countepisodeactivebout:allday_slope_variance', 'f_steps:fitbit_steps_intraday_rapids_countepisodeactivebout:allday_curvature_max', 'f_steps:fitbit_steps_intraday_rapids_countepisodeactivebout:allday_slope', 'f_steps:fitbit_steps_intraday_rapids_sumdurationactivebout:allday_curvature_mean', 'f_steps:fitbit_steps_intraday_rapids_sumdurationactivebout:allday_curvature_max', 'f_steps:fitbit_steps_intraday_rapids_sumdurationactivebout:allday_num_inflection_points', 'f_steps:fitbit_steps_intraday_rapids_sumdurationactivebout:allday_slope', 'f_steps:fitbit_steps_intraday_rapids_sumdurationactivebout:allday_mean']\n",
      "(221, 126)\n"
     ]
    }
   ],
   "source": [
    "### Here i left out calls data becuase of high missing rates\n",
    "#df_ema_sensors_post = merge_datasets([ema_2019_2020_transformed, bluetooth_2019_2020, location_2019_2020, screen_2019_2020, sleep_2019_2020, steps_2019_2020, stress_endterm_2019_2020], on_column='pid', how='inner')\n",
    "\n",
    "df_ema_sensors_post = merge_datasets([df_ema_post_selected, df_sensors_post_selected, stress_endterm_2019_2020], on_column=['pid', 'PSS_10items_POST'], how='inner')\n",
    "\n",
    "df_ema_sensors_post = df_ema_sensors_post.dropna()\n",
    "print(df_ema_sensors_post.shape)\n",
    "_, df_ema_sensors_post_selected = perform_rfecv(df_ema_sensors_post)\n",
    "print(df_ema_sensors_post_selected.shape)\n"
   ]
  },
  {
   "cell_type": "code",
   "execution_count": 27,
   "id": "e594d5fe-9e9c-44d6-81d4-5f30119cbb4d",
   "metadata": {
    "scrolled": true
   },
   "outputs": [
    {
     "name": "stdout",
     "output_type": "stream",
     "text": [
      "Evaluating model: Linear Regression\n"
     ]
    },
    {
     "name": "stderr",
     "output_type": "stream",
     "text": [
      "10it [00:00, 11.54it/s]\n",
      "10it [00:00, 11.59it/s]\n",
      "10it [00:02,  4.92it/s]\n",
      "10it [00:00, 10.14it/s]\n",
      "10it [00:00, 10.93it/s]\n",
      "10it [00:02,  4.73it/s]\n",
      "10it [00:01,  8.70it/s]\n",
      "10it [00:01,  7.94it/s]\n",
      "10it [00:01,  7.37it/s]\n",
      "10it [00:01,  8.19it/s]\n"
     ]
    },
    {
     "name": "stdout",
     "output_type": "stream",
     "text": [
      "Results for Linear Regression:\n",
      "MSE: Avg = 227872.3767, Std = 55714.7662\n",
      "RMSE: Avg = 473.1123, Std = 63.5381\n",
      "MAE: Avg = 59.1241, Std = 7.8507\n",
      "R²: Avg = -5749.6411, Std = 1406.0310\n",
      "Evaluating model: Lasso\n"
     ]
    },
    {
     "name": "stderr",
     "output_type": "stream",
     "text": [
      "1it [00:02,  2.06s/it]/Library/Frameworks/Python.framework/Versions/3.11/lib/python3.11/site-packages/sklearn/linear_model/_coordinate_descent.py:628: ConvergenceWarning: Objective did not converge. You might want to increase the number of iterations, check the scale of the features or consider increasing regularisation. Duality gap: 1.818e+01, tolerance: 6.093e-01\n",
      "  model = cd_fast.enet_coordinate_descent(\n",
      "2it [00:07,  4.14s/it]/Library/Frameworks/Python.framework/Versions/3.11/lib/python3.11/site-packages/sklearn/linear_model/_coordinate_descent.py:628: ConvergenceWarning: Objective did not converge. You might want to increase the number of iterations, check the scale of the features or consider increasing regularisation. Duality gap: 3.293e+00, tolerance: 6.309e-01\n",
      "  model = cd_fast.enet_coordinate_descent(\n",
      "7it [00:20,  2.60s/it]/Library/Frameworks/Python.framework/Versions/3.11/lib/python3.11/site-packages/sklearn/linear_model/_coordinate_descent.py:628: ConvergenceWarning: Objective did not converge. You might want to increase the number of iterations, check the scale of the features or consider increasing regularisation. Duality gap: 3.881e+00, tolerance: 6.460e-01\n",
      "  model = cd_fast.enet_coordinate_descent(\n",
      "9it [00:25,  2.48s/it]/Library/Frameworks/Python.framework/Versions/3.11/lib/python3.11/site-packages/sklearn/linear_model/_coordinate_descent.py:628: ConvergenceWarning: Objective did not converge. You might want to increase the number of iterations, check the scale of the features or consider increasing regularisation. Duality gap: 3.864e+00, tolerance: 6.882e-01\n",
      "  model = cd_fast.enet_coordinate_descent(\n",
      "/Library/Frameworks/Python.framework/Versions/3.11/lib/python3.11/site-packages/sklearn/linear_model/_coordinate_descent.py:628: ConvergenceWarning: Objective did not converge. You might want to increase the number of iterations, check the scale of the features or consider increasing regularisation. Duality gap: 3.251e+00, tolerance: 6.008e-01\n",
      "  model = cd_fast.enet_coordinate_descent(\n",
      "/Library/Frameworks/Python.framework/Versions/3.11/lib/python3.11/site-packages/sklearn/linear_model/_coordinate_descent.py:628: ConvergenceWarning: Objective did not converge. You might want to increase the number of iterations, check the scale of the features or consider increasing regularisation. Duality gap: 1.623e+00, tolerance: 6.004e-01\n",
      "  model = cd_fast.enet_coordinate_descent(\n",
      "/Library/Frameworks/Python.framework/Versions/3.11/lib/python3.11/site-packages/sklearn/linear_model/_coordinate_descent.py:628: ConvergenceWarning: Objective did not converge. You might want to increase the number of iterations, check the scale of the features or consider increasing regularisation. Duality gap: 7.742e-01, tolerance: 6.460e-01\n",
      "  model = cd_fast.enet_coordinate_descent(\n",
      "10it [00:35,  3.51s/it]\n",
      "1it [00:01,  1.88s/it]/Library/Frameworks/Python.framework/Versions/3.11/lib/python3.11/site-packages/sklearn/linear_model/_coordinate_descent.py:628: ConvergenceWarning: Objective did not converge. You might want to increase the number of iterations, check the scale of the features or consider increasing regularisation. Duality gap: 3.899e+00, tolerance: 6.458e-01\n",
      "  model = cd_fast.enet_coordinate_descent(\n",
      "3it [00:07,  2.51s/it]/Library/Frameworks/Python.framework/Versions/3.11/lib/python3.11/site-packages/sklearn/linear_model/_coordinate_descent.py:628: ConvergenceWarning: Objective did not converge. You might want to increase the number of iterations, check the scale of the features or consider increasing regularisation. Duality gap: 3.588e+00, tolerance: 6.437e-01\n",
      "  model = cd_fast.enet_coordinate_descent(\n",
      "/Library/Frameworks/Python.framework/Versions/3.11/lib/python3.11/site-packages/sklearn/linear_model/_coordinate_descent.py:628: ConvergenceWarning: Objective did not converge. You might want to increase the number of iterations, check the scale of the features or consider increasing regularisation. Duality gap: 1.335e+00, tolerance: 6.942e-01\n",
      "  model = cd_fast.enet_coordinate_descent(\n",
      "7it [00:24,  3.55s/it]/Library/Frameworks/Python.framework/Versions/3.11/lib/python3.11/site-packages/sklearn/linear_model/_coordinate_descent.py:628: ConvergenceWarning: Objective did not converge. You might want to increase the number of iterations, check the scale of the features or consider increasing regularisation. Duality gap: 2.743e+00, tolerance: 6.234e-01\n",
      "  model = cd_fast.enet_coordinate_descent(\n",
      "9it [00:31,  3.31s/it]/Library/Frameworks/Python.framework/Versions/3.11/lib/python3.11/site-packages/sklearn/linear_model/_coordinate_descent.py:628: ConvergenceWarning: Objective did not converge. You might want to increase the number of iterations, check the scale of the features or consider increasing regularisation. Duality gap: 6.676e+00, tolerance: 6.059e-01\n",
      "  model = cd_fast.enet_coordinate_descent(\n",
      "10it [00:35,  3.50s/it]\n",
      "7it [00:11,  2.13s/it]/Library/Frameworks/Python.framework/Versions/3.11/lib/python3.11/site-packages/sklearn/linear_model/_coordinate_descent.py:628: ConvergenceWarning: Objective did not converge. You might want to increase the number of iterations, check the scale of the features or consider increasing regularisation. Duality gap: 4.039e+00, tolerance: 6.552e-01\n",
      "  model = cd_fast.enet_coordinate_descent(\n",
      "/Library/Frameworks/Python.framework/Versions/3.11/lib/python3.11/site-packages/sklearn/linear_model/_coordinate_descent.py:628: ConvergenceWarning: Objective did not converge. You might want to increase the number of iterations, check the scale of the features or consider increasing regularisation. Duality gap: 4.171e+00, tolerance: 6.719e-01\n",
      "  model = cd_fast.enet_coordinate_descent(\n",
      "/Library/Frameworks/Python.framework/Versions/3.11/lib/python3.11/site-packages/sklearn/linear_model/_coordinate_descent.py:628: ConvergenceWarning: Objective did not converge. You might want to increase the number of iterations, check the scale of the features or consider increasing regularisation. Duality gap: 2.410e+00, tolerance: 5.916e-01\n",
      "  model = cd_fast.enet_coordinate_descent(\n",
      "/Library/Frameworks/Python.framework/Versions/3.11/lib/python3.11/site-packages/sklearn/linear_model/_coordinate_descent.py:628: ConvergenceWarning: Objective did not converge. You might want to increase the number of iterations, check the scale of the features or consider increasing regularisation. Duality gap: 6.788e-01, tolerance: 6.314e-01\n",
      "  model = cd_fast.enet_coordinate_descent(\n",
      "10it [00:27,  2.71s/it]\n",
      "0it [00:00, ?it/s]/Library/Frameworks/Python.framework/Versions/3.11/lib/python3.11/site-packages/sklearn/linear_model/_coordinate_descent.py:628: ConvergenceWarning: Objective did not converge. You might want to increase the number of iterations, check the scale of the features or consider increasing regularisation. Duality gap: 1.994e+00, tolerance: 6.194e-01\n",
      "  model = cd_fast.enet_coordinate_descent(\n",
      "3it [00:10,  2.82s/it]/Library/Frameworks/Python.framework/Versions/3.11/lib/python3.11/site-packages/sklearn/linear_model/_coordinate_descent.py:628: ConvergenceWarning: Objective did not converge. You might want to increase the number of iterations, check the scale of the features or consider increasing regularisation. Duality gap: 3.588e+00, tolerance: 6.137e-01\n",
      "  model = cd_fast.enet_coordinate_descent(\n",
      "/Library/Frameworks/Python.framework/Versions/3.11/lib/python3.11/site-packages/sklearn/linear_model/_coordinate_descent.py:628: ConvergenceWarning: Objective did not converge. You might want to increase the number of iterations, check the scale of the features or consider increasing regularisation. Duality gap: 8.608e-01, tolerance: 6.918e-01\n",
      "  model = cd_fast.enet_coordinate_descent(\n",
      "4it [00:13,  3.03s/it]/Library/Frameworks/Python.framework/Versions/3.11/lib/python3.11/site-packages/sklearn/linear_model/_coordinate_descent.py:628: ConvergenceWarning: Objective did not converge. You might want to increase the number of iterations, check the scale of the features or consider increasing regularisation. Duality gap: 1.203e+00, tolerance: 6.981e-01\n",
      "  model = cd_fast.enet_coordinate_descent(\n",
      "5it [00:23,  5.45s/it]/Library/Frameworks/Python.framework/Versions/3.11/lib/python3.11/site-packages/sklearn/linear_model/_coordinate_descent.py:628: ConvergenceWarning: Objective did not converge. You might want to increase the number of iterations, check the scale of the features or consider increasing regularisation. Duality gap: 2.528e+00, tolerance: 6.512e-01\n",
      "  model = cd_fast.enet_coordinate_descent(\n",
      "6it [00:28,  5.28s/it]/Library/Frameworks/Python.framework/Versions/3.11/lib/python3.11/site-packages/sklearn/linear_model/_coordinate_descent.py:628: ConvergenceWarning: Objective did not converge. You might want to increase the number of iterations, check the scale of the features or consider increasing regularisation. Duality gap: 1.189e+01, tolerance: 6.634e-01\n",
      "  model = cd_fast.enet_coordinate_descent(\n",
      "/Library/Frameworks/Python.framework/Versions/3.11/lib/python3.11/site-packages/sklearn/linear_model/_coordinate_descent.py:628: ConvergenceWarning: Objective did not converge. You might want to increase the number of iterations, check the scale of the features or consider increasing regularisation. Duality gap: 9.321e+00, tolerance: 5.807e-01\n",
      "  model = cd_fast.enet_coordinate_descent(\n",
      "/Library/Frameworks/Python.framework/Versions/3.11/lib/python3.11/site-packages/sklearn/linear_model/_coordinate_descent.py:628: ConvergenceWarning: Objective did not converge. You might want to increase the number of iterations, check the scale of the features or consider increasing regularisation. Duality gap: 1.001e+01, tolerance: 6.356e-01\n",
      "  model = cd_fast.enet_coordinate_descent(\n",
      "9it [00:38,  3.98s/it]/Library/Frameworks/Python.framework/Versions/3.11/lib/python3.11/site-packages/sklearn/linear_model/_coordinate_descent.py:628: ConvergenceWarning: Objective did not converge. You might want to increase the number of iterations, check the scale of the features or consider increasing regularisation. Duality gap: 2.906e+00, tolerance: 5.891e-01\n",
      "  model = cd_fast.enet_coordinate_descent(\n",
      "/Library/Frameworks/Python.framework/Versions/3.11/lib/python3.11/site-packages/sklearn/linear_model/_coordinate_descent.py:628: ConvergenceWarning: Objective did not converge. You might want to increase the number of iterations, check the scale of the features or consider increasing regularisation. Duality gap: 1.794e+00, tolerance: 6.570e-01\n",
      "  model = cd_fast.enet_coordinate_descent(\n",
      "10it [00:47,  4.75s/it]\n",
      "1it [00:02,  2.27s/it]/Library/Frameworks/Python.framework/Versions/3.11/lib/python3.11/site-packages/sklearn/linear_model/_coordinate_descent.py:628: ConvergenceWarning: Objective did not converge. You might want to increase the number of iterations, check the scale of the features or consider increasing regularisation. Duality gap: 1.002e+01, tolerance: 5.822e-01\n",
      "  model = cd_fast.enet_coordinate_descent(\n",
      "/Library/Frameworks/Python.framework/Versions/3.11/lib/python3.11/site-packages/sklearn/linear_model/_coordinate_descent.py:628: ConvergenceWarning: Objective did not converge. You might want to increase the number of iterations, check the scale of the features or consider increasing regularisation. Duality gap: 8.786e+00, tolerance: 6.002e-01\n",
      "  model = cd_fast.enet_coordinate_descent(\n",
      "3it [00:15,  4.97s/it]/Library/Frameworks/Python.framework/Versions/3.11/lib/python3.11/site-packages/sklearn/linear_model/_coordinate_descent.py:628: ConvergenceWarning: Objective did not converge. You might want to increase the number of iterations, check the scale of the features or consider increasing regularisation. Duality gap: 2.792e+00, tolerance: 6.382e-01\n",
      "  model = cd_fast.enet_coordinate_descent(\n",
      "6it [00:23,  3.24s/it]/Library/Frameworks/Python.framework/Versions/3.11/lib/python3.11/site-packages/sklearn/linear_model/_coordinate_descent.py:628: ConvergenceWarning: Objective did not converge. You might want to increase the number of iterations, check the scale of the features or consider increasing regularisation. Duality gap: 4.338e+00, tolerance: 6.285e-01\n",
      "  model = cd_fast.enet_coordinate_descent(\n",
      "10it [00:29,  2.98s/it]\n",
      "1it [00:01,  1.81s/it]/Library/Frameworks/Python.framework/Versions/3.11/lib/python3.11/site-packages/sklearn/linear_model/_coordinate_descent.py:628: ConvergenceWarning: Objective did not converge. You might want to increase the number of iterations, check the scale of the features or consider increasing regularisation. Duality gap: 2.737e+00, tolerance: 6.069e-01\n",
      "  model = cd_fast.enet_coordinate_descent(\n",
      "/Library/Frameworks/Python.framework/Versions/3.11/lib/python3.11/site-packages/sklearn/linear_model/_coordinate_descent.py:628: ConvergenceWarning: Objective did not converge. You might want to increase the number of iterations, check the scale of the features or consider increasing regularisation. Duality gap: 3.366e+00, tolerance: 6.750e-01\n",
      "  model = cd_fast.enet_coordinate_descent(\n",
      "/Library/Frameworks/Python.framework/Versions/3.11/lib/python3.11/site-packages/sklearn/linear_model/_coordinate_descent.py:628: ConvergenceWarning: Objective did not converge. You might want to increase the number of iterations, check the scale of the features or consider increasing regularisation. Duality gap: 3.469e+00, tolerance: 5.768e-01\n",
      "  model = cd_fast.enet_coordinate_descent(\n",
      "/Library/Frameworks/Python.framework/Versions/3.11/lib/python3.11/site-packages/sklearn/linear_model/_coordinate_descent.py:628: ConvergenceWarning: Objective did not converge. You might want to increase the number of iterations, check the scale of the features or consider increasing regularisation. Duality gap: 1.908e+00, tolerance: 5.729e-01\n",
      "  model = cd_fast.enet_coordinate_descent(\n",
      "/Library/Frameworks/Python.framework/Versions/3.11/lib/python3.11/site-packages/sklearn/linear_model/_coordinate_descent.py:628: ConvergenceWarning: Objective did not converge. You might want to increase the number of iterations, check the scale of the features or consider increasing regularisation. Duality gap: 7.514e-01, tolerance: 6.401e-01\n",
      "  model = cd_fast.enet_coordinate_descent(\n",
      "8it [00:24,  2.40s/it]/Library/Frameworks/Python.framework/Versions/3.11/lib/python3.11/site-packages/sklearn/linear_model/_coordinate_descent.py:628: ConvergenceWarning: Objective did not converge. You might want to increase the number of iterations, check the scale of the features or consider increasing regularisation. Duality gap: 2.829e+00, tolerance: 6.088e-01\n",
      "  model = cd_fast.enet_coordinate_descent(\n",
      "10it [00:30,  3.03s/it]\n",
      "2it [00:04,  1.96s/it]/Library/Frameworks/Python.framework/Versions/3.11/lib/python3.11/site-packages/sklearn/linear_model/_coordinate_descent.py:628: ConvergenceWarning: Objective did not converge. You might want to increase the number of iterations, check the scale of the features or consider increasing regularisation. Duality gap: 3.485e+00, tolerance: 6.319e-01\n",
      "  model = cd_fast.enet_coordinate_descent(\n",
      "3it [00:08,  3.12s/it]/Library/Frameworks/Python.framework/Versions/3.11/lib/python3.11/site-packages/sklearn/linear_model/_coordinate_descent.py:628: ConvergenceWarning: Objective did not converge. You might want to increase the number of iterations, check the scale of the features or consider increasing regularisation. Duality gap: 2.647e+00, tolerance: 6.098e-01\n",
      "  model = cd_fast.enet_coordinate_descent(\n",
      "4it [00:10,  2.70s/it]/Library/Frameworks/Python.framework/Versions/3.11/lib/python3.11/site-packages/sklearn/linear_model/_coordinate_descent.py:628: ConvergenceWarning: Objective did not converge. You might want to increase the number of iterations, check the scale of the features or consider increasing regularisation. Duality gap: 1.170e+01, tolerance: 6.384e-01\n",
      "  model = cd_fast.enet_coordinate_descent(\n",
      "/Library/Frameworks/Python.framework/Versions/3.11/lib/python3.11/site-packages/sklearn/linear_model/_coordinate_descent.py:628: ConvergenceWarning: Objective did not converge. You might want to increase the number of iterations, check the scale of the features or consider increasing regularisation. Duality gap: 9.919e+00, tolerance: 5.899e-01\n",
      "  model = cd_fast.enet_coordinate_descent(\n",
      "/Library/Frameworks/Python.framework/Versions/3.11/lib/python3.11/site-packages/sklearn/linear_model/_coordinate_descent.py:628: ConvergenceWarning: Objective did not converge. You might want to increase the number of iterations, check the scale of the features or consider increasing regularisation. Duality gap: 8.754e+00, tolerance: 5.951e-01\n",
      "  model = cd_fast.enet_coordinate_descent(\n",
      "7it [00:21,  3.31s/it]/Library/Frameworks/Python.framework/Versions/3.11/lib/python3.11/site-packages/sklearn/linear_model/_coordinate_descent.py:628: ConvergenceWarning: Objective did not converge. You might want to increase the number of iterations, check the scale of the features or consider increasing regularisation. Duality gap: 3.607e+00, tolerance: 6.464e-01\n",
      "  model = cd_fast.enet_coordinate_descent(\n",
      "10it [00:31,  3.12s/it]\n",
      "3it [00:05,  1.87s/it]/Library/Frameworks/Python.framework/Versions/3.11/lib/python3.11/site-packages/sklearn/linear_model/_coordinate_descent.py:628: ConvergenceWarning: Objective did not converge. You might want to increase the number of iterations, check the scale of the features or consider increasing regularisation. Duality gap: 4.261e+00, tolerance: 6.597e-01\n",
      "  model = cd_fast.enet_coordinate_descent(\n",
      "4it [00:09,  2.79s/it]/Library/Frameworks/Python.framework/Versions/3.11/lib/python3.11/site-packages/sklearn/linear_model/_coordinate_descent.py:628: ConvergenceWarning: Objective did not converge. You might want to increase the number of iterations, check the scale of the features or consider increasing regularisation. Duality gap: 3.490e+00, tolerance: 6.480e-01\n",
      "  model = cd_fast.enet_coordinate_descent(\n",
      "5it [00:13,  2.92s/it]/Library/Frameworks/Python.framework/Versions/3.11/lib/python3.11/site-packages/sklearn/linear_model/_coordinate_descent.py:628: ConvergenceWarning: Objective did not converge. You might want to increase the number of iterations, check the scale of the features or consider increasing regularisation. Duality gap: 2.408e+00, tolerance: 6.114e-01\n",
      "  model = cd_fast.enet_coordinate_descent(\n",
      "/Library/Frameworks/Python.framework/Versions/3.11/lib/python3.11/site-packages/sklearn/linear_model/_coordinate_descent.py:628: ConvergenceWarning: Objective did not converge. You might want to increase the number of iterations, check the scale of the features or consider increasing regularisation. Duality gap: 2.346e+00, tolerance: 6.679e-01\n",
      "  model = cd_fast.enet_coordinate_descent(\n",
      "/Library/Frameworks/Python.framework/Versions/3.11/lib/python3.11/site-packages/sklearn/linear_model/_coordinate_descent.py:628: ConvergenceWarning: Objective did not converge. You might want to increase the number of iterations, check the scale of the features or consider increasing regularisation. Duality gap: 2.046e+00, tolerance: 5.871e-01\n",
      "  model = cd_fast.enet_coordinate_descent(\n",
      "/Library/Frameworks/Python.framework/Versions/3.11/lib/python3.11/site-packages/sklearn/linear_model/_coordinate_descent.py:628: ConvergenceWarning: Objective did not converge. You might want to increase the number of iterations, check the scale of the features or consider increasing regularisation. Duality gap: 8.745e-01, tolerance: 6.306e-01\n",
      "  model = cd_fast.enet_coordinate_descent(\n",
      "6it [00:21,  4.93s/it]/Library/Frameworks/Python.framework/Versions/3.11/lib/python3.11/site-packages/sklearn/linear_model/_coordinate_descent.py:628: ConvergenceWarning: Objective did not converge. You might want to increase the number of iterations, check the scale of the features or consider increasing regularisation. Duality gap: 3.758e+00, tolerance: 6.617e-01\n",
      "  model = cd_fast.enet_coordinate_descent(\n",
      "10it [00:32,  3.23s/it]\n",
      "2it [00:05,  2.90s/it]/Library/Frameworks/Python.framework/Versions/3.11/lib/python3.11/site-packages/sklearn/linear_model/_coordinate_descent.py:628: ConvergenceWarning: Objective did not converge. You might want to increase the number of iterations, check the scale of the features or consider increasing regularisation. Duality gap: 9.080e+00, tolerance: 6.367e-01\n",
      "  model = cd_fast.enet_coordinate_descent(\n",
      "6it [00:28,  4.72s/it]\n"
     ]
    },
    {
     "ename": "KeyboardInterrupt",
     "evalue": "",
     "output_type": "error",
     "traceback": [
      "\u001b[0;31m---------------------------------------------------------------------------\u001b[0m",
      "\u001b[0;31mKeyboardInterrupt\u001b[0m                         Traceback (most recent call last)",
      "Cell \u001b[0;32mIn[27], line 1\u001b[0m\n\u001b[0;32m----> 1\u001b[0m ema_sensors_post_results \u001b[38;5;241m=\u001b[39m \u001b[43mevaluate_multiple_models\u001b[49m\u001b[43m(\u001b[49m\u001b[43mdf_ema_sensors_post_selected\u001b[49m\u001b[43m,\u001b[49m\u001b[43m \u001b[49m\u001b[43mmodels_with_params\u001b[49m\u001b[43m,\u001b[49m\u001b[43m \u001b[49m\u001b[43mrandom_states\u001b[49m\u001b[43m)\u001b[49m\n",
      "File \u001b[0;32m~/Documents/Stress_Prediction/evaluate_regression_models.py:117\u001b[0m, in \u001b[0;36mevaluate_multiple_models\u001b[0;34m(df, models_with_params, random_states)\u001b[0m\n\u001b[1;32m    115\u001b[0m X \u001b[38;5;241m=\u001b[39m df\u001b[38;5;241m.\u001b[39mdrop(columns\u001b[38;5;241m=\u001b[39m[\u001b[38;5;124m'\u001b[39m\u001b[38;5;124mPSS_10items_POST\u001b[39m\u001b[38;5;124m'\u001b[39m, \u001b[38;5;124m'\u001b[39m\u001b[38;5;124mpid\u001b[39m\u001b[38;5;124m'\u001b[39m]) \n\u001b[1;32m    116\u001b[0m y \u001b[38;5;241m=\u001b[39m df[\u001b[38;5;124m'\u001b[39m\u001b[38;5;124mPSS_10items_POST\u001b[39m\u001b[38;5;124m'\u001b[39m]       \n\u001b[0;32m--> 117\u001b[0m metrics \u001b[38;5;241m=\u001b[39m \u001b[43mmodel_evaluation_reg\u001b[49m\u001b[43m(\u001b[49m\u001b[43mX\u001b[49m\u001b[43m,\u001b[49m\u001b[43m \u001b[49m\u001b[43my\u001b[49m\u001b[43m,\u001b[49m\u001b[43m \u001b[49m\u001b[43mmodel\u001b[49m\u001b[43m,\u001b[49m\u001b[43m \u001b[49m\u001b[43mparam_grid\u001b[49m\u001b[43m,\u001b[49m\u001b[43m \u001b[49m\u001b[43mrandom_states\u001b[49m\u001b[43m)\u001b[49m\n\u001b[1;32m    119\u001b[0m results[model_name] \u001b[38;5;241m=\u001b[39m metrics\n\u001b[1;32m    121\u001b[0m \u001b[38;5;28mprint\u001b[39m(\u001b[38;5;124mf\u001b[39m\u001b[38;5;124m\"\u001b[39m\u001b[38;5;124mResults for \u001b[39m\u001b[38;5;132;01m{\u001b[39;00mmodel_name\u001b[38;5;132;01m}\u001b[39;00m\u001b[38;5;124m:\u001b[39m\u001b[38;5;124m\"\u001b[39m)\n",
      "File \u001b[0;32m~/Documents/Stress_Prediction/evaluate_regression_models.py:70\u001b[0m, in \u001b[0;36mmodel_evaluation_reg\u001b[0;34m(X, y, model, param_grid, random_states)\u001b[0m\n\u001b[1;32m     68\u001b[0m \u001b[38;5;66;03m#model.set_params(random_state=seed)\u001b[39;00m\n\u001b[1;32m     69\u001b[0m grid_search \u001b[38;5;241m=\u001b[39m GridSearchCV(model, param_grid, cv\u001b[38;5;241m=\u001b[39m\u001b[38;5;241m5\u001b[39m, scoring\u001b[38;5;241m=\u001b[39m\u001b[38;5;124m'\u001b[39m\u001b[38;5;124mr2\u001b[39m\u001b[38;5;124m'\u001b[39m)\n\u001b[0;32m---> 70\u001b[0m \u001b[43mgrid_search\u001b[49m\u001b[38;5;241;43m.\u001b[39;49m\u001b[43mfit\u001b[49m\u001b[43m(\u001b[49m\u001b[43mX_train\u001b[49m\u001b[43m,\u001b[49m\u001b[43m \u001b[49m\u001b[43my_train\u001b[49m\u001b[43m)\u001b[49m\n\u001b[1;32m     71\u001b[0m best_model \u001b[38;5;241m=\u001b[39m grid_search\u001b[38;5;241m.\u001b[39mbest_estimator_\n\u001b[1;32m     73\u001b[0m y_score \u001b[38;5;241m=\u001b[39m best_model\u001b[38;5;241m.\u001b[39mpredict(X_test)\n",
      "File \u001b[0;32m/Library/Frameworks/Python.framework/Versions/3.11/lib/python3.11/site-packages/sklearn/base.py:1152\u001b[0m, in \u001b[0;36m_fit_context.<locals>.decorator.<locals>.wrapper\u001b[0;34m(estimator, *args, **kwargs)\u001b[0m\n\u001b[1;32m   1145\u001b[0m     estimator\u001b[38;5;241m.\u001b[39m_validate_params()\n\u001b[1;32m   1147\u001b[0m \u001b[38;5;28;01mwith\u001b[39;00m config_context(\n\u001b[1;32m   1148\u001b[0m     skip_parameter_validation\u001b[38;5;241m=\u001b[39m(\n\u001b[1;32m   1149\u001b[0m         prefer_skip_nested_validation \u001b[38;5;129;01mor\u001b[39;00m global_skip_validation\n\u001b[1;32m   1150\u001b[0m     )\n\u001b[1;32m   1151\u001b[0m ):\n\u001b[0;32m-> 1152\u001b[0m     \u001b[38;5;28;01mreturn\u001b[39;00m \u001b[43mfit_method\u001b[49m\u001b[43m(\u001b[49m\u001b[43mestimator\u001b[49m\u001b[43m,\u001b[49m\u001b[43m \u001b[49m\u001b[38;5;241;43m*\u001b[39;49m\u001b[43margs\u001b[49m\u001b[43m,\u001b[49m\u001b[43m \u001b[49m\u001b[38;5;241;43m*\u001b[39;49m\u001b[38;5;241;43m*\u001b[39;49m\u001b[43mkwargs\u001b[49m\u001b[43m)\u001b[49m\n",
      "File \u001b[0;32m/Library/Frameworks/Python.framework/Versions/3.11/lib/python3.11/site-packages/sklearn/model_selection/_search.py:898\u001b[0m, in \u001b[0;36mBaseSearchCV.fit\u001b[0;34m(self, X, y, groups, **fit_params)\u001b[0m\n\u001b[1;32m    892\u001b[0m     results \u001b[38;5;241m=\u001b[39m \u001b[38;5;28mself\u001b[39m\u001b[38;5;241m.\u001b[39m_format_results(\n\u001b[1;32m    893\u001b[0m         all_candidate_params, n_splits, all_out, all_more_results\n\u001b[1;32m    894\u001b[0m     )\n\u001b[1;32m    896\u001b[0m     \u001b[38;5;28;01mreturn\u001b[39;00m results\n\u001b[0;32m--> 898\u001b[0m \u001b[38;5;28;43mself\u001b[39;49m\u001b[38;5;241;43m.\u001b[39;49m\u001b[43m_run_search\u001b[49m\u001b[43m(\u001b[49m\u001b[43mevaluate_candidates\u001b[49m\u001b[43m)\u001b[49m\n\u001b[1;32m    900\u001b[0m \u001b[38;5;66;03m# multimetric is determined here because in the case of a callable\u001b[39;00m\n\u001b[1;32m    901\u001b[0m \u001b[38;5;66;03m# self.scoring the return type is only known after calling\u001b[39;00m\n\u001b[1;32m    902\u001b[0m first_test_score \u001b[38;5;241m=\u001b[39m all_out[\u001b[38;5;241m0\u001b[39m][\u001b[38;5;124m\"\u001b[39m\u001b[38;5;124mtest_scores\u001b[39m\u001b[38;5;124m\"\u001b[39m]\n",
      "File \u001b[0;32m/Library/Frameworks/Python.framework/Versions/3.11/lib/python3.11/site-packages/sklearn/model_selection/_search.py:1422\u001b[0m, in \u001b[0;36mGridSearchCV._run_search\u001b[0;34m(self, evaluate_candidates)\u001b[0m\n\u001b[1;32m   1420\u001b[0m \u001b[38;5;28;01mdef\u001b[39;00m \u001b[38;5;21m_run_search\u001b[39m(\u001b[38;5;28mself\u001b[39m, evaluate_candidates):\n\u001b[1;32m   1421\u001b[0m \u001b[38;5;250m    \u001b[39m\u001b[38;5;124;03m\"\"\"Search all candidates in param_grid\"\"\"\u001b[39;00m\n\u001b[0;32m-> 1422\u001b[0m     \u001b[43mevaluate_candidates\u001b[49m\u001b[43m(\u001b[49m\u001b[43mParameterGrid\u001b[49m\u001b[43m(\u001b[49m\u001b[38;5;28;43mself\u001b[39;49m\u001b[38;5;241;43m.\u001b[39;49m\u001b[43mparam_grid\u001b[49m\u001b[43m)\u001b[49m\u001b[43m)\u001b[49m\n",
      "File \u001b[0;32m/Library/Frameworks/Python.framework/Versions/3.11/lib/python3.11/site-packages/sklearn/model_selection/_search.py:845\u001b[0m, in \u001b[0;36mBaseSearchCV.fit.<locals>.evaluate_candidates\u001b[0;34m(candidate_params, cv, more_results)\u001b[0m\n\u001b[1;32m    837\u001b[0m \u001b[38;5;28;01mif\u001b[39;00m \u001b[38;5;28mself\u001b[39m\u001b[38;5;241m.\u001b[39mverbose \u001b[38;5;241m>\u001b[39m \u001b[38;5;241m0\u001b[39m:\n\u001b[1;32m    838\u001b[0m     \u001b[38;5;28mprint\u001b[39m(\n\u001b[1;32m    839\u001b[0m         \u001b[38;5;124m\"\u001b[39m\u001b[38;5;124mFitting \u001b[39m\u001b[38;5;132;01m{0}\u001b[39;00m\u001b[38;5;124m folds for each of \u001b[39m\u001b[38;5;132;01m{1}\u001b[39;00m\u001b[38;5;124m candidates,\u001b[39m\u001b[38;5;124m\"\u001b[39m\n\u001b[1;32m    840\u001b[0m         \u001b[38;5;124m\"\u001b[39m\u001b[38;5;124m totalling \u001b[39m\u001b[38;5;132;01m{2}\u001b[39;00m\u001b[38;5;124m fits\u001b[39m\u001b[38;5;124m\"\u001b[39m\u001b[38;5;241m.\u001b[39mformat(\n\u001b[1;32m    841\u001b[0m             n_splits, n_candidates, n_candidates \u001b[38;5;241m*\u001b[39m n_splits\n\u001b[1;32m    842\u001b[0m         )\n\u001b[1;32m    843\u001b[0m     )\n\u001b[0;32m--> 845\u001b[0m out \u001b[38;5;241m=\u001b[39m \u001b[43mparallel\u001b[49m\u001b[43m(\u001b[49m\n\u001b[1;32m    846\u001b[0m \u001b[43m    \u001b[49m\u001b[43mdelayed\u001b[49m\u001b[43m(\u001b[49m\u001b[43m_fit_and_score\u001b[49m\u001b[43m)\u001b[49m\u001b[43m(\u001b[49m\n\u001b[1;32m    847\u001b[0m \u001b[43m        \u001b[49m\u001b[43mclone\u001b[49m\u001b[43m(\u001b[49m\u001b[43mbase_estimator\u001b[49m\u001b[43m)\u001b[49m\u001b[43m,\u001b[49m\n\u001b[1;32m    848\u001b[0m \u001b[43m        \u001b[49m\u001b[43mX\u001b[49m\u001b[43m,\u001b[49m\n\u001b[1;32m    849\u001b[0m \u001b[43m        \u001b[49m\u001b[43my\u001b[49m\u001b[43m,\u001b[49m\n\u001b[1;32m    850\u001b[0m \u001b[43m        \u001b[49m\u001b[43mtrain\u001b[49m\u001b[38;5;241;43m=\u001b[39;49m\u001b[43mtrain\u001b[49m\u001b[43m,\u001b[49m\n\u001b[1;32m    851\u001b[0m \u001b[43m        \u001b[49m\u001b[43mtest\u001b[49m\u001b[38;5;241;43m=\u001b[39;49m\u001b[43mtest\u001b[49m\u001b[43m,\u001b[49m\n\u001b[1;32m    852\u001b[0m \u001b[43m        \u001b[49m\u001b[43mparameters\u001b[49m\u001b[38;5;241;43m=\u001b[39;49m\u001b[43mparameters\u001b[49m\u001b[43m,\u001b[49m\n\u001b[1;32m    853\u001b[0m \u001b[43m        \u001b[49m\u001b[43msplit_progress\u001b[49m\u001b[38;5;241;43m=\u001b[39;49m\u001b[43m(\u001b[49m\u001b[43msplit_idx\u001b[49m\u001b[43m,\u001b[49m\u001b[43m \u001b[49m\u001b[43mn_splits\u001b[49m\u001b[43m)\u001b[49m\u001b[43m,\u001b[49m\n\u001b[1;32m    854\u001b[0m \u001b[43m        \u001b[49m\u001b[43mcandidate_progress\u001b[49m\u001b[38;5;241;43m=\u001b[39;49m\u001b[43m(\u001b[49m\u001b[43mcand_idx\u001b[49m\u001b[43m,\u001b[49m\u001b[43m \u001b[49m\u001b[43mn_candidates\u001b[49m\u001b[43m)\u001b[49m\u001b[43m,\u001b[49m\n\u001b[1;32m    855\u001b[0m \u001b[43m        \u001b[49m\u001b[38;5;241;43m*\u001b[39;49m\u001b[38;5;241;43m*\u001b[39;49m\u001b[43mfit_and_score_kwargs\u001b[49m\u001b[43m,\u001b[49m\n\u001b[1;32m    856\u001b[0m \u001b[43m    \u001b[49m\u001b[43m)\u001b[49m\n\u001b[1;32m    857\u001b[0m \u001b[43m    \u001b[49m\u001b[38;5;28;43;01mfor\u001b[39;49;00m\u001b[43m \u001b[49m\u001b[43m(\u001b[49m\u001b[43mcand_idx\u001b[49m\u001b[43m,\u001b[49m\u001b[43m \u001b[49m\u001b[43mparameters\u001b[49m\u001b[43m)\u001b[49m\u001b[43m,\u001b[49m\u001b[43m \u001b[49m\u001b[43m(\u001b[49m\u001b[43msplit_idx\u001b[49m\u001b[43m,\u001b[49m\u001b[43m \u001b[49m\u001b[43m(\u001b[49m\u001b[43mtrain\u001b[49m\u001b[43m,\u001b[49m\u001b[43m \u001b[49m\u001b[43mtest\u001b[49m\u001b[43m)\u001b[49m\u001b[43m)\u001b[49m\u001b[43m \u001b[49m\u001b[38;5;129;43;01min\u001b[39;49;00m\u001b[43m \u001b[49m\u001b[43mproduct\u001b[49m\u001b[43m(\u001b[49m\n\u001b[1;32m    858\u001b[0m \u001b[43m        \u001b[49m\u001b[38;5;28;43menumerate\u001b[39;49m\u001b[43m(\u001b[49m\u001b[43mcandidate_params\u001b[49m\u001b[43m)\u001b[49m\u001b[43m,\u001b[49m\u001b[43m \u001b[49m\u001b[38;5;28;43menumerate\u001b[39;49m\u001b[43m(\u001b[49m\u001b[43mcv\u001b[49m\u001b[38;5;241;43m.\u001b[39;49m\u001b[43msplit\u001b[49m\u001b[43m(\u001b[49m\u001b[43mX\u001b[49m\u001b[43m,\u001b[49m\u001b[43m \u001b[49m\u001b[43my\u001b[49m\u001b[43m,\u001b[49m\u001b[43m \u001b[49m\u001b[43mgroups\u001b[49m\u001b[43m)\u001b[49m\u001b[43m)\u001b[49m\n\u001b[1;32m    859\u001b[0m \u001b[43m    \u001b[49m\u001b[43m)\u001b[49m\n\u001b[1;32m    860\u001b[0m \u001b[43m\u001b[49m\u001b[43m)\u001b[49m\n\u001b[1;32m    862\u001b[0m \u001b[38;5;28;01mif\u001b[39;00m \u001b[38;5;28mlen\u001b[39m(out) \u001b[38;5;241m<\u001b[39m \u001b[38;5;241m1\u001b[39m:\n\u001b[1;32m    863\u001b[0m     \u001b[38;5;28;01mraise\u001b[39;00m \u001b[38;5;167;01mValueError\u001b[39;00m(\n\u001b[1;32m    864\u001b[0m         \u001b[38;5;124m\"\u001b[39m\u001b[38;5;124mNo fits were performed. \u001b[39m\u001b[38;5;124m\"\u001b[39m\n\u001b[1;32m    865\u001b[0m         \u001b[38;5;124m\"\u001b[39m\u001b[38;5;124mWas the CV iterator empty? \u001b[39m\u001b[38;5;124m\"\u001b[39m\n\u001b[1;32m    866\u001b[0m         \u001b[38;5;124m\"\u001b[39m\u001b[38;5;124mWere there no candidates?\u001b[39m\u001b[38;5;124m\"\u001b[39m\n\u001b[1;32m    867\u001b[0m     )\n",
      "File \u001b[0;32m/Library/Frameworks/Python.framework/Versions/3.11/lib/python3.11/site-packages/sklearn/utils/parallel.py:65\u001b[0m, in \u001b[0;36mParallel.__call__\u001b[0;34m(self, iterable)\u001b[0m\n\u001b[1;32m     60\u001b[0m config \u001b[38;5;241m=\u001b[39m get_config()\n\u001b[1;32m     61\u001b[0m iterable_with_config \u001b[38;5;241m=\u001b[39m (\n\u001b[1;32m     62\u001b[0m     (_with_config(delayed_func, config), args, kwargs)\n\u001b[1;32m     63\u001b[0m     \u001b[38;5;28;01mfor\u001b[39;00m delayed_func, args, kwargs \u001b[38;5;129;01min\u001b[39;00m iterable\n\u001b[1;32m     64\u001b[0m )\n\u001b[0;32m---> 65\u001b[0m \u001b[38;5;28;01mreturn\u001b[39;00m \u001b[38;5;28;43msuper\u001b[39;49m\u001b[43m(\u001b[49m\u001b[43m)\u001b[49m\u001b[38;5;241;43m.\u001b[39;49m\u001b[38;5;21;43m__call__\u001b[39;49m\u001b[43m(\u001b[49m\u001b[43miterable_with_config\u001b[49m\u001b[43m)\u001b[49m\n",
      "File \u001b[0;32m/Library/Frameworks/Python.framework/Versions/3.11/lib/python3.11/site-packages/joblib/parallel.py:1863\u001b[0m, in \u001b[0;36mParallel.__call__\u001b[0;34m(self, iterable)\u001b[0m\n\u001b[1;32m   1861\u001b[0m     output \u001b[38;5;241m=\u001b[39m \u001b[38;5;28mself\u001b[39m\u001b[38;5;241m.\u001b[39m_get_sequential_output(iterable)\n\u001b[1;32m   1862\u001b[0m     \u001b[38;5;28mnext\u001b[39m(output)\n\u001b[0;32m-> 1863\u001b[0m     \u001b[38;5;28;01mreturn\u001b[39;00m output \u001b[38;5;28;01mif\u001b[39;00m \u001b[38;5;28mself\u001b[39m\u001b[38;5;241m.\u001b[39mreturn_generator \u001b[38;5;28;01melse\u001b[39;00m \u001b[38;5;28mlist\u001b[39m(output)\n\u001b[1;32m   1865\u001b[0m \u001b[38;5;66;03m# Let's create an ID that uniquely identifies the current call. If the\u001b[39;00m\n\u001b[1;32m   1866\u001b[0m \u001b[38;5;66;03m# call is interrupted early and that the same instance is immediately\u001b[39;00m\n\u001b[1;32m   1867\u001b[0m \u001b[38;5;66;03m# re-used, this id will be used to prevent workers that were\u001b[39;00m\n\u001b[1;32m   1868\u001b[0m \u001b[38;5;66;03m# concurrently finalizing a task from the previous call to run the\u001b[39;00m\n\u001b[1;32m   1869\u001b[0m \u001b[38;5;66;03m# callback.\u001b[39;00m\n\u001b[1;32m   1870\u001b[0m \u001b[38;5;28;01mwith\u001b[39;00m \u001b[38;5;28mself\u001b[39m\u001b[38;5;241m.\u001b[39m_lock:\n",
      "File \u001b[0;32m/Library/Frameworks/Python.framework/Versions/3.11/lib/python3.11/site-packages/joblib/parallel.py:1792\u001b[0m, in \u001b[0;36mParallel._get_sequential_output\u001b[0;34m(self, iterable)\u001b[0m\n\u001b[1;32m   1790\u001b[0m \u001b[38;5;28mself\u001b[39m\u001b[38;5;241m.\u001b[39mn_dispatched_batches \u001b[38;5;241m+\u001b[39m\u001b[38;5;241m=\u001b[39m \u001b[38;5;241m1\u001b[39m\n\u001b[1;32m   1791\u001b[0m \u001b[38;5;28mself\u001b[39m\u001b[38;5;241m.\u001b[39mn_dispatched_tasks \u001b[38;5;241m+\u001b[39m\u001b[38;5;241m=\u001b[39m \u001b[38;5;241m1\u001b[39m\n\u001b[0;32m-> 1792\u001b[0m res \u001b[38;5;241m=\u001b[39m \u001b[43mfunc\u001b[49m\u001b[43m(\u001b[49m\u001b[38;5;241;43m*\u001b[39;49m\u001b[43margs\u001b[49m\u001b[43m,\u001b[49m\u001b[43m \u001b[49m\u001b[38;5;241;43m*\u001b[39;49m\u001b[38;5;241;43m*\u001b[39;49m\u001b[43mkwargs\u001b[49m\u001b[43m)\u001b[49m\n\u001b[1;32m   1793\u001b[0m \u001b[38;5;28mself\u001b[39m\u001b[38;5;241m.\u001b[39mn_completed_tasks \u001b[38;5;241m+\u001b[39m\u001b[38;5;241m=\u001b[39m \u001b[38;5;241m1\u001b[39m\n\u001b[1;32m   1794\u001b[0m \u001b[38;5;28mself\u001b[39m\u001b[38;5;241m.\u001b[39mprint_progress()\n",
      "File \u001b[0;32m/Library/Frameworks/Python.framework/Versions/3.11/lib/python3.11/site-packages/sklearn/utils/parallel.py:127\u001b[0m, in \u001b[0;36m_FuncWrapper.__call__\u001b[0;34m(self, *args, **kwargs)\u001b[0m\n\u001b[1;32m    125\u001b[0m     config \u001b[38;5;241m=\u001b[39m {}\n\u001b[1;32m    126\u001b[0m \u001b[38;5;28;01mwith\u001b[39;00m config_context(\u001b[38;5;241m*\u001b[39m\u001b[38;5;241m*\u001b[39mconfig):\n\u001b[0;32m--> 127\u001b[0m     \u001b[38;5;28;01mreturn\u001b[39;00m \u001b[38;5;28;43mself\u001b[39;49m\u001b[38;5;241;43m.\u001b[39;49m\u001b[43mfunction\u001b[49m\u001b[43m(\u001b[49m\u001b[38;5;241;43m*\u001b[39;49m\u001b[43margs\u001b[49m\u001b[43m,\u001b[49m\u001b[43m \u001b[49m\u001b[38;5;241;43m*\u001b[39;49m\u001b[38;5;241;43m*\u001b[39;49m\u001b[43mkwargs\u001b[49m\u001b[43m)\u001b[49m\n",
      "File \u001b[0;32m/Library/Frameworks/Python.framework/Versions/3.11/lib/python3.11/site-packages/sklearn/model_selection/_validation.py:729\u001b[0m, in \u001b[0;36m_fit_and_score\u001b[0;34m(estimator, X, y, scorer, train, test, verbose, parameters, fit_params, return_train_score, return_parameters, return_n_test_samples, return_times, return_estimator, split_progress, candidate_progress, error_score)\u001b[0m\n\u001b[1;32m    727\u001b[0m         estimator\u001b[38;5;241m.\u001b[39mfit(X_train, \u001b[38;5;241m*\u001b[39m\u001b[38;5;241m*\u001b[39mfit_params)\n\u001b[1;32m    728\u001b[0m     \u001b[38;5;28;01melse\u001b[39;00m:\n\u001b[0;32m--> 729\u001b[0m         \u001b[43mestimator\u001b[49m\u001b[38;5;241;43m.\u001b[39;49m\u001b[43mfit\u001b[49m\u001b[43m(\u001b[49m\u001b[43mX_train\u001b[49m\u001b[43m,\u001b[49m\u001b[43m \u001b[49m\u001b[43my_train\u001b[49m\u001b[43m,\u001b[49m\u001b[43m \u001b[49m\u001b[38;5;241;43m*\u001b[39;49m\u001b[38;5;241;43m*\u001b[39;49m\u001b[43mfit_params\u001b[49m\u001b[43m)\u001b[49m\n\u001b[1;32m    731\u001b[0m \u001b[38;5;28;01mexcept\u001b[39;00m \u001b[38;5;167;01mException\u001b[39;00m:\n\u001b[1;32m    732\u001b[0m     \u001b[38;5;66;03m# Note fit time as time until error\u001b[39;00m\n\u001b[1;32m    733\u001b[0m     fit_time \u001b[38;5;241m=\u001b[39m time\u001b[38;5;241m.\u001b[39mtime() \u001b[38;5;241m-\u001b[39m start_time\n",
      "File \u001b[0;32m/Library/Frameworks/Python.framework/Versions/3.11/lib/python3.11/site-packages/sklearn/base.py:1152\u001b[0m, in \u001b[0;36m_fit_context.<locals>.decorator.<locals>.wrapper\u001b[0;34m(estimator, *args, **kwargs)\u001b[0m\n\u001b[1;32m   1145\u001b[0m     estimator\u001b[38;5;241m.\u001b[39m_validate_params()\n\u001b[1;32m   1147\u001b[0m \u001b[38;5;28;01mwith\u001b[39;00m config_context(\n\u001b[1;32m   1148\u001b[0m     skip_parameter_validation\u001b[38;5;241m=\u001b[39m(\n\u001b[1;32m   1149\u001b[0m         prefer_skip_nested_validation \u001b[38;5;129;01mor\u001b[39;00m global_skip_validation\n\u001b[1;32m   1150\u001b[0m     )\n\u001b[1;32m   1151\u001b[0m ):\n\u001b[0;32m-> 1152\u001b[0m     \u001b[38;5;28;01mreturn\u001b[39;00m \u001b[43mfit_method\u001b[49m\u001b[43m(\u001b[49m\u001b[43mestimator\u001b[49m\u001b[43m,\u001b[49m\u001b[43m \u001b[49m\u001b[38;5;241;43m*\u001b[39;49m\u001b[43margs\u001b[49m\u001b[43m,\u001b[49m\u001b[43m \u001b[49m\u001b[38;5;241;43m*\u001b[39;49m\u001b[38;5;241;43m*\u001b[39;49m\u001b[43mkwargs\u001b[49m\u001b[43m)\u001b[49m\n",
      "File \u001b[0;32m/Library/Frameworks/Python.framework/Versions/3.11/lib/python3.11/site-packages/sklearn/linear_model/_coordinate_descent.py:1001\u001b[0m, in \u001b[0;36mElasticNet.fit\u001b[0;34m(self, X, y, sample_weight, check_input)\u001b[0m\n\u001b[1;32m    999\u001b[0m \u001b[38;5;28;01melse\u001b[39;00m:\n\u001b[1;32m   1000\u001b[0m     this_Xy \u001b[38;5;241m=\u001b[39m \u001b[38;5;28;01mNone\u001b[39;00m\n\u001b[0;32m-> 1001\u001b[0m _, this_coef, this_dual_gap, this_iter \u001b[38;5;241m=\u001b[39m \u001b[38;5;28;43mself\u001b[39;49m\u001b[38;5;241;43m.\u001b[39;49m\u001b[43mpath\u001b[49m\u001b[43m(\u001b[49m\n\u001b[1;32m   1002\u001b[0m \u001b[43m    \u001b[49m\u001b[43mX\u001b[49m\u001b[43m,\u001b[49m\n\u001b[1;32m   1003\u001b[0m \u001b[43m    \u001b[49m\u001b[43my\u001b[49m\u001b[43m[\u001b[49m\u001b[43m:\u001b[49m\u001b[43m,\u001b[49m\u001b[43m \u001b[49m\u001b[43mk\u001b[49m\u001b[43m]\u001b[49m\u001b[43m,\u001b[49m\n\u001b[1;32m   1004\u001b[0m \u001b[43m    \u001b[49m\u001b[43ml1_ratio\u001b[49m\u001b[38;5;241;43m=\u001b[39;49m\u001b[38;5;28;43mself\u001b[39;49m\u001b[38;5;241;43m.\u001b[39;49m\u001b[43ml1_ratio\u001b[49m\u001b[43m,\u001b[49m\n\u001b[1;32m   1005\u001b[0m \u001b[43m    \u001b[49m\u001b[43meps\u001b[49m\u001b[38;5;241;43m=\u001b[39;49m\u001b[38;5;28;43;01mNone\u001b[39;49;00m\u001b[43m,\u001b[49m\n\u001b[1;32m   1006\u001b[0m \u001b[43m    \u001b[49m\u001b[43mn_alphas\u001b[49m\u001b[38;5;241;43m=\u001b[39;49m\u001b[38;5;28;43;01mNone\u001b[39;49;00m\u001b[43m,\u001b[49m\n\u001b[1;32m   1007\u001b[0m \u001b[43m    \u001b[49m\u001b[43malphas\u001b[49m\u001b[38;5;241;43m=\u001b[39;49m\u001b[43m[\u001b[49m\u001b[43malpha\u001b[49m\u001b[43m]\u001b[49m\u001b[43m,\u001b[49m\n\u001b[1;32m   1008\u001b[0m \u001b[43m    \u001b[49m\u001b[43mprecompute\u001b[49m\u001b[38;5;241;43m=\u001b[39;49m\u001b[43mprecompute\u001b[49m\u001b[43m,\u001b[49m\n\u001b[1;32m   1009\u001b[0m \u001b[43m    \u001b[49m\u001b[43mXy\u001b[49m\u001b[38;5;241;43m=\u001b[39;49m\u001b[43mthis_Xy\u001b[49m\u001b[43m,\u001b[49m\n\u001b[1;32m   1010\u001b[0m \u001b[43m    \u001b[49m\u001b[43mcopy_X\u001b[49m\u001b[38;5;241;43m=\u001b[39;49m\u001b[38;5;28;43;01mTrue\u001b[39;49;00m\u001b[43m,\u001b[49m\n\u001b[1;32m   1011\u001b[0m \u001b[43m    \u001b[49m\u001b[43mcoef_init\u001b[49m\u001b[38;5;241;43m=\u001b[39;49m\u001b[43mcoef_\u001b[49m\u001b[43m[\u001b[49m\u001b[43mk\u001b[49m\u001b[43m]\u001b[49m\u001b[43m,\u001b[49m\n\u001b[1;32m   1012\u001b[0m \u001b[43m    \u001b[49m\u001b[43mverbose\u001b[49m\u001b[38;5;241;43m=\u001b[39;49m\u001b[38;5;28;43;01mFalse\u001b[39;49;00m\u001b[43m,\u001b[49m\n\u001b[1;32m   1013\u001b[0m \u001b[43m    \u001b[49m\u001b[43mreturn_n_iter\u001b[49m\u001b[38;5;241;43m=\u001b[39;49m\u001b[38;5;28;43;01mTrue\u001b[39;49;00m\u001b[43m,\u001b[49m\n\u001b[1;32m   1014\u001b[0m \u001b[43m    \u001b[49m\u001b[43mpositive\u001b[49m\u001b[38;5;241;43m=\u001b[39;49m\u001b[38;5;28;43mself\u001b[39;49m\u001b[38;5;241;43m.\u001b[39;49m\u001b[43mpositive\u001b[49m\u001b[43m,\u001b[49m\n\u001b[1;32m   1015\u001b[0m \u001b[43m    \u001b[49m\u001b[43mcheck_input\u001b[49m\u001b[38;5;241;43m=\u001b[39;49m\u001b[38;5;28;43;01mFalse\u001b[39;49;00m\u001b[43m,\u001b[49m\n\u001b[1;32m   1016\u001b[0m \u001b[43m    \u001b[49m\u001b[38;5;66;43;03m# from here on **params\u001b[39;49;00m\n\u001b[1;32m   1017\u001b[0m \u001b[43m    \u001b[49m\u001b[43mtol\u001b[49m\u001b[38;5;241;43m=\u001b[39;49m\u001b[38;5;28;43mself\u001b[39;49m\u001b[38;5;241;43m.\u001b[39;49m\u001b[43mtol\u001b[49m\u001b[43m,\u001b[49m\n\u001b[1;32m   1018\u001b[0m \u001b[43m    \u001b[49m\u001b[43mX_offset\u001b[49m\u001b[38;5;241;43m=\u001b[39;49m\u001b[43mX_offset\u001b[49m\u001b[43m,\u001b[49m\n\u001b[1;32m   1019\u001b[0m \u001b[43m    \u001b[49m\u001b[43mX_scale\u001b[49m\u001b[38;5;241;43m=\u001b[39;49m\u001b[43mX_scale\u001b[49m\u001b[43m,\u001b[49m\n\u001b[1;32m   1020\u001b[0m \u001b[43m    \u001b[49m\u001b[43mmax_iter\u001b[49m\u001b[38;5;241;43m=\u001b[39;49m\u001b[38;5;28;43mself\u001b[39;49m\u001b[38;5;241;43m.\u001b[39;49m\u001b[43mmax_iter\u001b[49m\u001b[43m,\u001b[49m\n\u001b[1;32m   1021\u001b[0m \u001b[43m    \u001b[49m\u001b[43mrandom_state\u001b[49m\u001b[38;5;241;43m=\u001b[39;49m\u001b[38;5;28;43mself\u001b[39;49m\u001b[38;5;241;43m.\u001b[39;49m\u001b[43mrandom_state\u001b[49m\u001b[43m,\u001b[49m\n\u001b[1;32m   1022\u001b[0m \u001b[43m    \u001b[49m\u001b[43mselection\u001b[49m\u001b[38;5;241;43m=\u001b[39;49m\u001b[38;5;28;43mself\u001b[39;49m\u001b[38;5;241;43m.\u001b[39;49m\u001b[43mselection\u001b[49m\u001b[43m,\u001b[49m\n\u001b[1;32m   1023\u001b[0m \u001b[43m    \u001b[49m\u001b[43msample_weight\u001b[49m\u001b[38;5;241;43m=\u001b[39;49m\u001b[43msample_weight\u001b[49m\u001b[43m,\u001b[49m\n\u001b[1;32m   1024\u001b[0m \u001b[43m\u001b[49m\u001b[43m)\u001b[49m\n\u001b[1;32m   1025\u001b[0m coef_[k] \u001b[38;5;241m=\u001b[39m this_coef[:, \u001b[38;5;241m0\u001b[39m]\n\u001b[1;32m   1026\u001b[0m dual_gaps_[k] \u001b[38;5;241m=\u001b[39m this_dual_gap[\u001b[38;5;241m0\u001b[39m]\n",
      "File \u001b[0;32m/Library/Frameworks/Python.framework/Versions/3.11/lib/python3.11/site-packages/sklearn/linear_model/_coordinate_descent.py:628\u001b[0m, in \u001b[0;36menet_path\u001b[0;34m(X, y, l1_ratio, eps, n_alphas, alphas, precompute, Xy, copy_X, coef_init, verbose, return_n_iter, positive, check_input, **params)\u001b[0m\n\u001b[1;32m    614\u001b[0m     model \u001b[38;5;241m=\u001b[39m cd_fast\u001b[38;5;241m.\u001b[39menet_coordinate_descent_gram(\n\u001b[1;32m    615\u001b[0m         coef_,\n\u001b[1;32m    616\u001b[0m         l1_reg,\n\u001b[0;32m   (...)\u001b[0m\n\u001b[1;32m    625\u001b[0m         positive,\n\u001b[1;32m    626\u001b[0m     )\n\u001b[1;32m    627\u001b[0m \u001b[38;5;28;01melif\u001b[39;00m precompute \u001b[38;5;129;01mis\u001b[39;00m \u001b[38;5;28;01mFalse\u001b[39;00m:\n\u001b[0;32m--> 628\u001b[0m     model \u001b[38;5;241m=\u001b[39m \u001b[43mcd_fast\u001b[49m\u001b[38;5;241;43m.\u001b[39;49m\u001b[43menet_coordinate_descent\u001b[49m\u001b[43m(\u001b[49m\n\u001b[1;32m    629\u001b[0m \u001b[43m        \u001b[49m\u001b[43mcoef_\u001b[49m\u001b[43m,\u001b[49m\u001b[43m \u001b[49m\u001b[43ml1_reg\u001b[49m\u001b[43m,\u001b[49m\u001b[43m \u001b[49m\u001b[43ml2_reg\u001b[49m\u001b[43m,\u001b[49m\u001b[43m \u001b[49m\u001b[43mX\u001b[49m\u001b[43m,\u001b[49m\u001b[43m \u001b[49m\u001b[43my\u001b[49m\u001b[43m,\u001b[49m\u001b[43m \u001b[49m\u001b[43mmax_iter\u001b[49m\u001b[43m,\u001b[49m\u001b[43m \u001b[49m\u001b[43mtol\u001b[49m\u001b[43m,\u001b[49m\u001b[43m \u001b[49m\u001b[43mrng\u001b[49m\u001b[43m,\u001b[49m\u001b[43m \u001b[49m\u001b[43mrandom\u001b[49m\u001b[43m,\u001b[49m\u001b[43m \u001b[49m\u001b[43mpositive\u001b[49m\n\u001b[1;32m    630\u001b[0m \u001b[43m    \u001b[49m\u001b[43m)\u001b[49m\n\u001b[1;32m    631\u001b[0m \u001b[38;5;28;01melse\u001b[39;00m:\n\u001b[1;32m    632\u001b[0m     \u001b[38;5;28;01mraise\u001b[39;00m \u001b[38;5;167;01mValueError\u001b[39;00m(\n\u001b[1;32m    633\u001b[0m         \u001b[38;5;124m\"\u001b[39m\u001b[38;5;124mPrecompute should be one of True, False, \u001b[39m\u001b[38;5;124m'\u001b[39m\u001b[38;5;124mauto\u001b[39m\u001b[38;5;124m'\u001b[39m\u001b[38;5;124m or array-like. Got \u001b[39m\u001b[38;5;132;01m%r\u001b[39;00m\u001b[38;5;124m\"\u001b[39m\n\u001b[1;32m    634\u001b[0m         \u001b[38;5;241m%\u001b[39m precompute\n\u001b[1;32m    635\u001b[0m     )\n",
      "File \u001b[0;32msklearn/linear_model/_cd_fast.pyx:267\u001b[0m, in \u001b[0;36msklearn.linear_model._cd_fast.enet_coordinate_descent\u001b[0;34m()\u001b[0m\n",
      "File \u001b[0;32m/Library/Frameworks/Python.framework/Versions/3.11/lib/python3.11/site-packages/numpy/core/getlimits.py:484\u001b[0m, in \u001b[0;36mfinfo.__new__\u001b[0;34m(cls, dtype)\u001b[0m\n\u001b[1;32m    380\u001b[0m \u001b[38;5;250m\u001b[39m\u001b[38;5;124;03m\"\"\"\u001b[39;00m\n\u001b[1;32m    381\u001b[0m \u001b[38;5;124;03mfinfo(dtype)\u001b[39;00m\n\u001b[1;32m    382\u001b[0m \n\u001b[0;32m   (...)\u001b[0m\n\u001b[1;32m    479\u001b[0m \n\u001b[1;32m    480\u001b[0m \u001b[38;5;124;03m\"\"\"\u001b[39;00m\n\u001b[1;32m    482\u001b[0m _finfo_cache \u001b[38;5;241m=\u001b[39m {}\n\u001b[0;32m--> 484\u001b[0m \u001b[38;5;28;01mdef\u001b[39;00m \u001b[38;5;21m__new__\u001b[39m(\u001b[38;5;28mcls\u001b[39m, dtype):\n\u001b[1;32m    485\u001b[0m     \u001b[38;5;28;01mtry\u001b[39;00m:\n\u001b[1;32m    486\u001b[0m         obj \u001b[38;5;241m=\u001b[39m \u001b[38;5;28mcls\u001b[39m\u001b[38;5;241m.\u001b[39m_finfo_cache\u001b[38;5;241m.\u001b[39mget(dtype)  \u001b[38;5;66;03m# most common path\u001b[39;00m\n",
      "\u001b[0;31mKeyboardInterrupt\u001b[0m: "
     ]
    }
   ],
   "source": [
    "ema_sensors_post_results = evaluate_multiple_models(df_ema_sensors_post_selected, models_with_params, random_states)\n"
   ]
  },
  {
   "cell_type": "markdown",
   "id": "1e397d00-9537-4cb1-a9a5-9c4e581a94cb",
   "metadata": {
    "jp-MarkdownHeadingCollapsed": true
   },
   "source": [
    "### Pre, EMA, Sensors, and Endterm"
   ]
  },
  {
   "cell_type": "code",
   "execution_count": null,
   "id": "d3ceed1d-f234-4a68-8c64-8a1a6f465642",
   "metadata": {},
   "outputs": [],
   "source": [
    "### Here i left out calls data becuase of high missing rates\n",
    "#df_pre_ema_sensors_post = merge_datasets([pre_2019_2020, ema_2019_2020_transformed, bluetooth_2019_2020, location_2019_2020, screen_2019_2020, sleep_2019_2020, steps_2019_2020, stress_endterm_2019_2020], on_column='pid', how='inner')\n",
    "\n",
    "#df_pre_ema_sensors_post = merge_datasets([df_pre_post_selected, df_ema_post_selected, df_sensors_post_selected, stress_endterm_2019_2020], on_column=['pid', 'PSS_10items_POST'], how='inner')\n",
    "\n",
    "df_pre_ema_sensors_post = merge_datasets([df_pre_post_selected, df_ema_sensors_post_selected, stress_endterm_2019_2020], on_column=['pid', 'PSS_10items_POST'], how='inner')\n",
    "\n",
    "#df_pre_ema_sensors_post = merge_datasets([df_pre_ema_post_selected, df_sensors_post_selected, stress_endterm_2019_2020], on_column=['pid', 'PSS_10items_POST'], how='inner')\n",
    "\n",
    "#df_pre_ema_sensors_post = df_pre_ema_sensors_post.drop(columns = ['CESD_10items_PRE', 'BYAACQ_PRE'])\n",
    "df_pre_ema_sensors_post = df_pre_ema_sensors_post.dropna()\n",
    "print(df_pre_ema_sensors_post.shape)\n",
    "_, df_pre_ema_sensors_post_selected = perform_rfecv(df_pre_ema_sensors_post)\n",
    "print(df_pre_ema_sensors_post_selected.shape)\n"
   ]
  },
  {
   "cell_type": "code",
   "execution_count": null,
   "id": "7805f713-dc85-43a5-8fdb-1ea6a620ba76",
   "metadata": {},
   "outputs": [],
   "source": []
  },
  {
   "cell_type": "code",
   "execution_count": null,
   "id": "008ebfde-ca28-4cca-869a-d6275e7c1754",
   "metadata": {},
   "outputs": [],
   "source": [
    "df_pre_ema_sensors_post_selected.columns"
   ]
  },
  {
   "cell_type": "code",
   "execution_count": null,
   "id": "c0e8a403-1910-491e-a6e9-1343096b8c08",
   "metadata": {
    "scrolled": true
   },
   "outputs": [],
   "source": [
    "\n",
    "pre_ema_sensors_post_results = evaluate_multiple_models(df_pre_ema_sensors_post_selected, models_with_params, random_states)\n"
   ]
  },
  {
   "cell_type": "markdown",
   "id": "dbb2952d-9bc1-4d5b-af1f-238c302b02a1",
   "metadata": {},
   "source": [
    "Best model based on R²: Ridge with R² = 0.4746"
   ]
  },
  {
   "cell_type": "markdown",
   "id": "bbe82524-82c7-4ca4-b2d8-cf1d9dcfb1b6",
   "metadata": {
    "jp-MarkdownHeadingCollapsed": true
   },
   "source": [
    "### SHAP Analysis of the best model and with best dataset"
   ]
  },
  {
   "cell_type": "raw",
   "id": "5822155e-50fe-4b93-88e1-81e64e4bfe22",
   "metadata": {
    "scrolled": true
   },
   "source": [
    "from shap_analysis import *\n",
    "model = RandomForestRegressor(random_state=0)\n",
    "param_grid = {'max_depth': [3, 5, 7]}\n",
    "\n",
    "df = df_pre_ema_sensors_post_selected\n",
    "X = df.drop(columns=['PSS_10items_POST', 'pid']) \n",
    "y = df['PSS_10items_POST']  \n",
    "\n",
    "model_evaluation_with_shap(X, y, model, param_grid)"
   ]
  },
  {
   "cell_type": "markdown",
   "id": "01fc5b4c-c4f6-4717-b9f0-84ffdd52407d",
   "metadata": {},
   "source": [
    "### Fitting the Final model: 2019_2020 train and 2021 test"
   ]
  },
  {
   "cell_type": "code",
   "execution_count": null,
   "id": "41109710-3678-4271-a7a7-0030622e9615",
   "metadata": {},
   "outputs": [],
   "source": [
    "df_2021 = merge_datasets([pre_2021, \n",
    "                          ema_2021, \n",
    "                          bluetooth_2021, \n",
    "                          location_2021, \n",
    "                          screen_2021, \n",
    "                          sleep_2021, \n",
    "                          steps_2021, \n",
    "                          stress_endterm_2021], \n",
    "                         on_column='pid', how='inner')"
   ]
  },
  {
   "cell_type": "code",
   "execution_count": null,
   "id": "ddbec14d-c3d9-43bb-931d-282c4e854626",
   "metadata": {},
   "outputs": [],
   "source": [
    "feature_rename = {\n",
    "    'f_slp:fitbit_sleep_intraday_rapids_sumdurationasleepunifiedmain:allday_mean': 'sumduration_main_sleep_mean',\n",
    "    'f_loc:phone_locations_barnett_circanrtn:allday_slope': 'circadianroutine_mean'\n",
    "}\n",
    "\n",
    "df_pre_ema_sensors_post_selected.rename(columns=feature_rename, inplace=True)\n",
    "df_2021.rename(columns=feature_rename, inplace=True)"
   ]
  },
  {
   "cell_type": "code",
   "execution_count": null,
   "id": "7c675330-a505-4f03-bf03-5427f90ce3c9",
   "metadata": {},
   "outputs": [],
   "source": [
    "df_train = df_pre_ema_sensors_post_selected\n",
    "X_train = df_train.drop(columns=['PSS_10items_POST', 'pid']) \n",
    "y_train = df_train['PSS_10items_POST']"
   ]
  },
  {
   "cell_type": "code",
   "execution_count": null,
   "id": "1ade1b9e-2164-41eb-8eaf-0efee382fceb",
   "metadata": {},
   "outputs": [],
   "source": [
    "df_test = df_2021[df_pre_ema_sensors_post_selected.columns.to_list()].dropna()\n",
    "X_test = df_test.drop(columns=['PSS_10items_POST', 'pid']) \n",
    "y_test = df_test['PSS_10items_POST']"
   ]
  },
  {
   "cell_type": "code",
   "execution_count": null,
   "id": "f666fb4a-563f-47d4-b038-c8ca71f87c64",
   "metadata": {},
   "outputs": [],
   "source": [
    "from evaluate_final_model import *\n",
    "pre_ema_sensors_post_results = train_and_evaluate_model(X_train, y_train, X_test, y_test, RandomForestRegressor(random_state=42), {'max_depth': [3, 5, 7]})\n"
   ]
  },
  {
   "cell_type": "code",
   "execution_count": null,
   "id": "7aded52f-e313-4a71-a8a6-0ba864ff196a",
   "metadata": {},
   "outputs": [],
   "source": []
  }
 ],
 "metadata": {
  "kernelspec": {
   "display_name": "Python 3 (ipykernel)",
   "language": "python",
   "name": "python3"
  },
  "language_info": {
   "codemirror_mode": {
    "name": "ipython",
    "version": 3
   },
   "file_extension": ".py",
   "mimetype": "text/x-python",
   "name": "python",
   "nbconvert_exporter": "python",
   "pygments_lexer": "ipython3",
   "version": "3.11.5"
  }
 },
 "nbformat": 4,
 "nbformat_minor": 5
}
